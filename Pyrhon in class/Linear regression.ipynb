{
 "cells": [
  {
   "cell_type": "code",
   "execution_count": 1,
   "id": "a7df23ec",
   "metadata": {},
   "outputs": [],
   "source": [
    "import pandas as pd\n",
    "import numpy as np\n",
    "import matplotlib.pyplot as plt"
   ]
  },
  {
   "cell_type": "code",
   "execution_count": 2,
   "id": "51418fe5",
   "metadata": {},
   "outputs": [],
   "source": [
    "df=pd.read_csv(\"data.csv\",header=None)"
   ]
  },
  {
   "cell_type": "code",
   "execution_count": 3,
   "id": "c81002d3",
   "metadata": {},
   "outputs": [
    {
     "data": {
      "text/html": [
       "<div>\n",
       "<style scoped>\n",
       "    .dataframe tbody tr th:only-of-type {\n",
       "        vertical-align: middle;\n",
       "    }\n",
       "\n",
       "    .dataframe tbody tr th {\n",
       "        vertical-align: top;\n",
       "    }\n",
       "\n",
       "    .dataframe thead th {\n",
       "        text-align: right;\n",
       "    }\n",
       "</style>\n",
       "<table border=\"1\" class=\"dataframe\">\n",
       "  <thead>\n",
       "    <tr style=\"text-align: right;\">\n",
       "      <th></th>\n",
       "      <th>0</th>\n",
       "      <th>1</th>\n",
       "    </tr>\n",
       "  </thead>\n",
       "  <tbody>\n",
       "    <tr>\n",
       "      <th>0</th>\n",
       "      <td>32.502345</td>\n",
       "      <td>31.707006</td>\n",
       "    </tr>\n",
       "    <tr>\n",
       "      <th>1</th>\n",
       "      <td>53.426804</td>\n",
       "      <td>68.777596</td>\n",
       "    </tr>\n",
       "    <tr>\n",
       "      <th>2</th>\n",
       "      <td>61.530358</td>\n",
       "      <td>62.562382</td>\n",
       "    </tr>\n",
       "    <tr>\n",
       "      <th>3</th>\n",
       "      <td>47.475640</td>\n",
       "      <td>71.546632</td>\n",
       "    </tr>\n",
       "    <tr>\n",
       "      <th>4</th>\n",
       "      <td>59.813208</td>\n",
       "      <td>87.230925</td>\n",
       "    </tr>\n",
       "    <tr>\n",
       "      <th>...</th>\n",
       "      <td>...</td>\n",
       "      <td>...</td>\n",
       "    </tr>\n",
       "    <tr>\n",
       "      <th>95</th>\n",
       "      <td>50.030174</td>\n",
       "      <td>81.536991</td>\n",
       "    </tr>\n",
       "    <tr>\n",
       "      <th>96</th>\n",
       "      <td>49.239765</td>\n",
       "      <td>72.111832</td>\n",
       "    </tr>\n",
       "    <tr>\n",
       "      <th>97</th>\n",
       "      <td>50.039576</td>\n",
       "      <td>85.232007</td>\n",
       "    </tr>\n",
       "    <tr>\n",
       "      <th>98</th>\n",
       "      <td>48.149859</td>\n",
       "      <td>66.224958</td>\n",
       "    </tr>\n",
       "    <tr>\n",
       "      <th>99</th>\n",
       "      <td>25.128485</td>\n",
       "      <td>53.454394</td>\n",
       "    </tr>\n",
       "  </tbody>\n",
       "</table>\n",
       "<p>100 rows × 2 columns</p>\n",
       "</div>"
      ],
      "text/plain": [
       "            0          1\n",
       "0   32.502345  31.707006\n",
       "1   53.426804  68.777596\n",
       "2   61.530358  62.562382\n",
       "3   47.475640  71.546632\n",
       "4   59.813208  87.230925\n",
       "..        ...        ...\n",
       "95  50.030174  81.536991\n",
       "96  49.239765  72.111832\n",
       "97  50.039576  85.232007\n",
       "98  48.149859  66.224958\n",
       "99  25.128485  53.454394\n",
       "\n",
       "[100 rows x 2 columns]"
      ]
     },
     "execution_count": 3,
     "metadata": {},
     "output_type": "execute_result"
    }
   ],
   "source": [
    "df"
   ]
  },
  {
   "cell_type": "code",
   "execution_count": 4,
   "id": "b203ebf7",
   "metadata": {},
   "outputs": [
    {
     "data": {
      "text/html": [
       "<div>\n",
       "<style scoped>\n",
       "    .dataframe tbody tr th:only-of-type {\n",
       "        vertical-align: middle;\n",
       "    }\n",
       "\n",
       "    .dataframe tbody tr th {\n",
       "        vertical-align: top;\n",
       "    }\n",
       "\n",
       "    .dataframe thead th {\n",
       "        text-align: right;\n",
       "    }\n",
       "</style>\n",
       "<table border=\"1\" class=\"dataframe\">\n",
       "  <thead>\n",
       "    <tr style=\"text-align: right;\">\n",
       "      <th></th>\n",
       "      <th>0</th>\n",
       "      <th>1</th>\n",
       "    </tr>\n",
       "  </thead>\n",
       "  <tbody>\n",
       "    <tr>\n",
       "      <th>0</th>\n",
       "      <td>32.502345</td>\n",
       "      <td>31.707006</td>\n",
       "    </tr>\n",
       "    <tr>\n",
       "      <th>1</th>\n",
       "      <td>53.426804</td>\n",
       "      <td>68.777596</td>\n",
       "    </tr>\n",
       "    <tr>\n",
       "      <th>2</th>\n",
       "      <td>61.530358</td>\n",
       "      <td>62.562382</td>\n",
       "    </tr>\n",
       "    <tr>\n",
       "      <th>3</th>\n",
       "      <td>47.475640</td>\n",
       "      <td>71.546632</td>\n",
       "    </tr>\n",
       "    <tr>\n",
       "      <th>4</th>\n",
       "      <td>59.813208</td>\n",
       "      <td>87.230925</td>\n",
       "    </tr>\n",
       "  </tbody>\n",
       "</table>\n",
       "</div>"
      ],
      "text/plain": [
       "           0          1\n",
       "0  32.502345  31.707006\n",
       "1  53.426804  68.777596\n",
       "2  61.530358  62.562382\n",
       "3  47.475640  71.546632\n",
       "4  59.813208  87.230925"
      ]
     },
     "execution_count": 4,
     "metadata": {},
     "output_type": "execute_result"
    }
   ],
   "source": [
    "df.head()"
   ]
  },
  {
   "cell_type": "code",
   "execution_count": 5,
   "id": "5a661f5c",
   "metadata": {},
   "outputs": [],
   "source": [
    "df.columns={\"A\",\"B\"}"
   ]
  },
  {
   "cell_type": "code",
   "execution_count": 6,
   "id": "c7faf671",
   "metadata": {},
   "outputs": [
    {
     "data": {
      "text/html": [
       "<div>\n",
       "<style scoped>\n",
       "    .dataframe tbody tr th:only-of-type {\n",
       "        vertical-align: middle;\n",
       "    }\n",
       "\n",
       "    .dataframe tbody tr th {\n",
       "        vertical-align: top;\n",
       "    }\n",
       "\n",
       "    .dataframe thead th {\n",
       "        text-align: right;\n",
       "    }\n",
       "</style>\n",
       "<table border=\"1\" class=\"dataframe\">\n",
       "  <thead>\n",
       "    <tr style=\"text-align: right;\">\n",
       "      <th></th>\n",
       "      <th>B</th>\n",
       "      <th>A</th>\n",
       "    </tr>\n",
       "  </thead>\n",
       "  <tbody>\n",
       "    <tr>\n",
       "      <th>0</th>\n",
       "      <td>32.502345</td>\n",
       "      <td>31.707006</td>\n",
       "    </tr>\n",
       "    <tr>\n",
       "      <th>1</th>\n",
       "      <td>53.426804</td>\n",
       "      <td>68.777596</td>\n",
       "    </tr>\n",
       "    <tr>\n",
       "      <th>2</th>\n",
       "      <td>61.530358</td>\n",
       "      <td>62.562382</td>\n",
       "    </tr>\n",
       "    <tr>\n",
       "      <th>3</th>\n",
       "      <td>47.475640</td>\n",
       "      <td>71.546632</td>\n",
       "    </tr>\n",
       "    <tr>\n",
       "      <th>4</th>\n",
       "      <td>59.813208</td>\n",
       "      <td>87.230925</td>\n",
       "    </tr>\n",
       "    <tr>\n",
       "      <th>...</th>\n",
       "      <td>...</td>\n",
       "      <td>...</td>\n",
       "    </tr>\n",
       "    <tr>\n",
       "      <th>95</th>\n",
       "      <td>50.030174</td>\n",
       "      <td>81.536991</td>\n",
       "    </tr>\n",
       "    <tr>\n",
       "      <th>96</th>\n",
       "      <td>49.239765</td>\n",
       "      <td>72.111832</td>\n",
       "    </tr>\n",
       "    <tr>\n",
       "      <th>97</th>\n",
       "      <td>50.039576</td>\n",
       "      <td>85.232007</td>\n",
       "    </tr>\n",
       "    <tr>\n",
       "      <th>98</th>\n",
       "      <td>48.149859</td>\n",
       "      <td>66.224958</td>\n",
       "    </tr>\n",
       "    <tr>\n",
       "      <th>99</th>\n",
       "      <td>25.128485</td>\n",
       "      <td>53.454394</td>\n",
       "    </tr>\n",
       "  </tbody>\n",
       "</table>\n",
       "<p>100 rows × 2 columns</p>\n",
       "</div>"
      ],
      "text/plain": [
       "            B          A\n",
       "0   32.502345  31.707006\n",
       "1   53.426804  68.777596\n",
       "2   61.530358  62.562382\n",
       "3   47.475640  71.546632\n",
       "4   59.813208  87.230925\n",
       "..        ...        ...\n",
       "95  50.030174  81.536991\n",
       "96  49.239765  72.111832\n",
       "97  50.039576  85.232007\n",
       "98  48.149859  66.224958\n",
       "99  25.128485  53.454394\n",
       "\n",
       "[100 rows x 2 columns]"
      ]
     },
     "execution_count": 6,
     "metadata": {},
     "output_type": "execute_result"
    }
   ],
   "source": [
    "df"
   ]
  },
  {
   "cell_type": "code",
   "execution_count": 7,
   "id": "3d1c925c",
   "metadata": {},
   "outputs": [],
   "source": [
    "x=df.loc[:,\"A\"]"
   ]
  },
  {
   "cell_type": "code",
   "execution_count": null,
   "id": "6882a831",
   "metadata": {},
   "outputs": [],
   "source": []
  },
  {
   "cell_type": "code",
   "execution_count": 8,
   "id": "9fc5454d",
   "metadata": {},
   "outputs": [
    {
     "data": {
      "text/plain": [
       "0     31.707006\n",
       "1     68.777596\n",
       "2     62.562382\n",
       "3     71.546632\n",
       "4     87.230925\n",
       "        ...    \n",
       "95    81.536991\n",
       "96    72.111832\n",
       "97    85.232007\n",
       "98    66.224958\n",
       "99    53.454394\n",
       "Name: A, Length: 100, dtype: float64"
      ]
     },
     "execution_count": 8,
     "metadata": {},
     "output_type": "execute_result"
    }
   ],
   "source": [
    "x"
   ]
  },
  {
   "cell_type": "code",
   "execution_count": 9,
   "id": "b13b782b",
   "metadata": {},
   "outputs": [],
   "source": [
    "y=df.loc[:,\"B\"]"
   ]
  },
  {
   "cell_type": "code",
   "execution_count": 10,
   "id": "0898a8d3",
   "metadata": {},
   "outputs": [
    {
     "data": {
      "text/plain": [
       "0     32.502345\n",
       "1     53.426804\n",
       "2     61.530358\n",
       "3     47.475640\n",
       "4     59.813208\n",
       "        ...    \n",
       "95    50.030174\n",
       "96    49.239765\n",
       "97    50.039576\n",
       "98    48.149859\n",
       "99    25.128485\n",
       "Name: B, Length: 100, dtype: float64"
      ]
     },
     "execution_count": 10,
     "metadata": {},
     "output_type": "execute_result"
    }
   ],
   "source": [
    "y"
   ]
  },
  {
   "cell_type": "code",
   "execution_count": 11,
   "id": "38e6227c",
   "metadata": {},
   "outputs": [
    {
     "data": {
      "image/png": "[encoded data removed]",
      "text/plain": [
       "<Figure size 432x288 with 1 Axes>"
      ]
     },
     "metadata": {
      "needs_background": "light"
     },
     "output_type": "display_data"
    }
   ],
   "source": [
    "plt.scatter(x,y,marker=\"*\")\n",
    "plt.show()"
   ]
  },
  {
   "cell_type": "code",
   "execution_count": 12,
   "id": "547c1b0e",
   "metadata": {},
   "outputs": [],
   "source": [
    "m=0\n",
    "c=0\n",
    "l=0.0001 #learning rate\n",
    "epochs=1000\n",
    "n=int(len(x))\n",
    "for i in range(epochs):\n",
    "    y_pred=m*x+c\n",
    "    d_m=(-2/n)*sum(x*(y-y_pred))\n",
    "    d_c=(-2/n)*sum(y-y_pred)\n",
    "    m=m-l*d_m\n",
    "    c=c-l*d_c\n",
    "y_pred=m*x+c\n"
   ]
  },
  {
   "cell_type": "code",
   "execution_count": 13,
   "id": "2bd3aff6",
   "metadata": {},
   "outputs": [
    {
     "name": "stdout",
     "output_type": "stream",
     "text": [
      "0.6600563043856945 0.16604388998405448\n"
     ]
    }
   ],
   "source": [
    "print(m,c)"
   ]
  },
  {
   "cell_type": "code",
   "execution_count": 14,
   "id": "10f4f1df",
   "metadata": {},
   "outputs": [
    {
     "data": {
      "text/plain": [
       "0     21.094453\n",
       "1     45.563130\n",
       "2     41.460739\n",
       "3     47.390850\n",
       "4     57.743366\n",
       "        ...    \n",
       "95    53.985049\n",
       "96    47.763914\n",
       "97    56.423968\n",
       "98    43.878245\n",
       "99    35.448954\n",
       "Name: A, Length: 100, dtype: float64"
      ]
     },
     "execution_count": 14,
     "metadata": {},
     "output_type": "execute_result"
    }
   ],
   "source": [
    "y_pred"
   ]
  },
  {
   "cell_type": "code",
   "execution_count": 15,
   "id": "bf5be47d",
   "metadata": {},
   "outputs": [
    {
     "data": {
      "text/plain": [
       "0     32.502345\n",
       "1     53.426804\n",
       "2     61.530358\n",
       "3     47.475640\n",
       "4     59.813208\n",
       "        ...    \n",
       "95    50.030174\n",
       "96    49.239765\n",
       "97    50.039576\n",
       "98    48.149859\n",
       "99    25.128485\n",
       "Name: B, Length: 100, dtype: float64"
      ]
     },
     "execution_count": 15,
     "metadata": {},
     "output_type": "execute_result"
    }
   ],
   "source": [
    "y"
   ]
  },
  {
   "cell_type": "code",
   "execution_count": 16,
   "id": "4b7a66d2",
   "metadata": {},
   "outputs": [
    {
     "data": {
      "text/plain": [
       "[<matplotlib.lines.Line2D at 0x254028df0d0>]"
      ]
     },
     "execution_count": 16,
     "metadata": {},
     "output_type": "execute_result"
    },
    {
     "data": {
      "image/png": "[encoded data removed]",
      "text/plain": [
       "<Figure size 432x288 with 1 Axes>"
      ]
     },
     "metadata": {
      "needs_background": "light"
     },
     "output_type": "display_data"
    }
   ],
   "source": [
    "plt.plot([min(x),max(x)],[min(y_pred),max(y_pred)])"
   ]
  },
  {
   "cell_type": "code",
   "execution_count": 17,
   "id": "48b246d1",
   "metadata": {},
   "outputs": [
    {
     "data": {
      "text/plain": [
       "7.83068903802354"
      ]
     },
     "execution_count": 17,
     "metadata": {},
     "output_type": "execute_result"
    }
   ],
   "source": [
    "rmsc=np.sqrt(sum(y-y_pred)**2/n)\n",
    "rmsc"
   ]
  },
  {
   "cell_type": "code",
   "execution_count": 18,
   "id": "434fd47a",
   "metadata": {},
   "outputs": [
    {
     "data": {
      "text/plain": [
       "100"
      ]
     },
     "execution_count": 18,
     "metadata": {},
     "output_type": "execute_result"
    }
   ],
   "source": [
    "len(x)"
   ]
  },
  {
   "cell_type": "code",
   "execution_count": 19,
   "id": "dc6cd1cb",
   "metadata": {},
   "outputs": [
    {
     "data": {
      "text/plain": [
       "100"
      ]
     },
     "execution_count": 19,
     "metadata": {},
     "output_type": "execute_result"
    }
   ],
   "source": [
    "len(y)"
   ]
  },
  {
   "cell_type": "code",
   "execution_count": 33,
   "id": "2ab4aba1",
   "metadata": {},
   "outputs": [],
   "source": [
    "class LinearRegression:\n",
    "    def __init__(self,l,epochs,m,c):\n",
    "       #self.x=x\n",
    "        #self.y=y\n",
    "        self.l=l\n",
    "        self.epochs=epochs\n",
    "    def fit(self,x,y):\n",
    "        n=float(len(x))\n",
    "        for i in range(self.epochs):\n",
    "            y_pred=self.m*x+self.c\n",
    "            d_m=(-2/n)*sum(x*(y-y_pred))\n",
    "            d_c=(-2/n)*sum(y-y_pred)\n",
    "            self.self.m=m-self.l*d_m\n",
    "            self.c=self.c-self.l*d_c\n",
    "        return self.m,self.c  \n",
    "             \n",
    "    def predict(self,m,c,X):\n",
    "        final_pred=m*X+c\n",
    "        return final_pred\n",
    "        "
   ]
  },
  {
   "cell_type": "code",
   "execution_count": 21,
   "id": "e9b45f39",
   "metadata": {},
   "outputs": [
    {
     "name": "stdout",
     "output_type": "stream",
     "text": [
      "0.6600563043856945 0.16604388998405448\n"
     ]
    }
   ],
   "source": [
    "print(m,c)"
   ]
  },
  {
   "cell_type": "code",
   "execution_count": 34,
   "id": "c1218b64",
   "metadata": {},
   "outputs": [
    {
     "ename": "AttributeError",
     "evalue": "'LinearRegression' object has no attribute 'm'",
     "output_type": "error",
     "traceback": [
      "\u001b[1;31m---------------------------------------------------------------------------\u001b[0m",
      "\u001b[1;31mAttributeError\u001b[0m                            Traceback (most recent call last)",
      "Input \u001b[1;32mIn [34]\u001b[0m, in \u001b[0;36m<cell line: 4>\u001b[1;34m()\u001b[0m\n\u001b[0;32m      2\u001b[0m y\u001b[38;5;241m=\u001b[39mdf\u001b[38;5;241m.\u001b[39miloc[:,\u001b[38;5;241m1\u001b[39m]\n\u001b[0;32m      3\u001b[0m model\u001b[38;5;241m=\u001b[39mLinearRegression(\u001b[38;5;241m0.001\u001b[39m,\u001b[38;5;241m1000\u001b[39m,\u001b[38;5;241m0\u001b[39m,\u001b[38;5;241m0\u001b[39m)\n\u001b[1;32m----> 4\u001b[0m m,c\u001b[38;5;241m=\u001b[39m\u001b[43mmodel\u001b[49m\u001b[38;5;241;43m.\u001b[39;49m\u001b[43mfit\u001b[49m\u001b[43m(\u001b[49m\u001b[43mx\u001b[49m\u001b[43m,\u001b[49m\u001b[43my\u001b[49m\u001b[43m)\u001b[49m\n\u001b[0;32m      5\u001b[0m pred\u001b[38;5;241m=\u001b[39mmodel\u001b[38;5;241m.\u001b[39mpredict(\u001b[38;5;241m0\u001b[39m,\u001b[38;5;241m0\u001b[39m,X)\n",
      "Input \u001b[1;32mIn [33]\u001b[0m, in \u001b[0;36mLinearRegression.fit\u001b[1;34m(self, x, y)\u001b[0m\n\u001b[0;32m      8\u001b[0m n\u001b[38;5;241m=\u001b[39m\u001b[38;5;28mfloat\u001b[39m(\u001b[38;5;28mlen\u001b[39m(x))\n\u001b[0;32m      9\u001b[0m \u001b[38;5;28;01mfor\u001b[39;00m i \u001b[38;5;129;01min\u001b[39;00m \u001b[38;5;28mrange\u001b[39m(\u001b[38;5;28mself\u001b[39m\u001b[38;5;241m.\u001b[39mepochs):\n\u001b[1;32m---> 10\u001b[0m     y_pred\u001b[38;5;241m=\u001b[39m\u001b[38;5;28;43mself\u001b[39;49m\u001b[38;5;241;43m.\u001b[39;49m\u001b[43mm\u001b[49m\u001b[38;5;241m*\u001b[39mx\u001b[38;5;241m+\u001b[39m\u001b[38;5;28mself\u001b[39m\u001b[38;5;241m.\u001b[39mc\n\u001b[0;32m     11\u001b[0m     d_m\u001b[38;5;241m=\u001b[39m(\u001b[38;5;241m-\u001b[39m\u001b[38;5;241m2\u001b[39m\u001b[38;5;241m/\u001b[39mn)\u001b[38;5;241m*\u001b[39m\u001b[38;5;28msum\u001b[39m(x\u001b[38;5;241m*\u001b[39m(y\u001b[38;5;241m-\u001b[39my_pred))\n\u001b[0;32m     12\u001b[0m     d_c\u001b[38;5;241m=\u001b[39m(\u001b[38;5;241m-\u001b[39m\u001b[38;5;241m2\u001b[39m\u001b[38;5;241m/\u001b[39mn)\u001b[38;5;241m*\u001b[39m\u001b[38;5;28msum\u001b[39m(y\u001b[38;5;241m-\u001b[39my_pred)\n",
      "\u001b[1;31mAttributeError\u001b[0m: 'LinearRegression' object has no attribute 'm'"
     ]
    }
   ],
   "source": [
    "x=df.iloc[:,0]\n",
    "y=df.iloc[:,1]\n",
    "model=LinearRegression(0.001,1000,0,0)\n",
    "m,c=model.fit(x,y)\n",
    "pred=model.predict(0,0,X)"
   ]
  }
 ],
 "metadata": {
  "kernelspec": {
   "display_name": "Python 3 (ipykernel)",
   "language": "python",
   "name": "python3"
  },
  "language_info": {
   "codemirror_mode": {
    "name": "ipython",
    "version": 3
   },
   "file_extension": ".py",
   "mimetype": "text/x-python",
   "name": "python",
   "nbconvert_exporter": "python",
   "pygments_lexer": "ipython3",
   "version": "3.11.4"
  }
 },
 "nbformat": 4,
 "nbformat_minor": 5
}
