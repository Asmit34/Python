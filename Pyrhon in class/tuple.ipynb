{
 "cells": [
  {
   "cell_type": "code",
   "execution_count": 2,
   "id": "bf8c5ef1",
   "metadata": {},
   "outputs": [
    {
     "name": "stdout",
     "output_type": "stream",
     "text": [
      "<class 'tuple'>\n"
     ]
    }
   ],
   "source": [
    "tup=()\n",
    "print(type(tup))"
   ]
  },
  {
   "cell_type": "code",
   "execution_count": 7,
   "id": "f27e14d0",
   "metadata": {},
   "outputs": [
    {
     "name": "stdout",
     "output_type": "stream",
     "text": [
      "[1, 2, 3, 4]\n"
     ]
    }
   ],
   "source": [
    "tup1=(1,2,3,4)\n",
    "li=list(tup1)\n",
    "print(li)"
   ]
  },
  {
   "cell_type": "code",
   "execution_count": 8,
   "id": "2ef30ff5",
   "metadata": {},
   "outputs": [
    {
     "name": "stdout",
     "output_type": "stream",
     "text": [
      "(1, 2, 3, 4, 5, 6, 7, 1, 2, 3, 4)\n"
     ]
    }
   ],
   "source": [
    "tup2=tup1+(5,6,7)+tup1\n",
    "print(tup2)"
   ]
  },
  {
   "cell_type": "code",
   "execution_count": 11,
   "id": "6251ece3",
   "metadata": {},
   "outputs": [
    {
     "name": "stdout",
     "output_type": "stream",
     "text": [
      "1\n",
      "2\n",
      "3 4 5 6 7 8\n"
     ]
    }
   ],
   "source": [
    "tup3=(1,2,3,4,5,6,7,8)\n",
    "p,q,*r=tup3\n",
    "print(p)\n",
    "print(q)\n",
    "print(r)"
   ]
  }
 ],
 "metadata": {
  "kernelspec": {
   "display_name": "Python 3 (ipykernel)",
   "language": "python",
   "name": "python3"
  },
  "language_info": {
   "codemirror_mode": {
    "name": "ipython",
    "version": 3
   },
   "file_extension": ".py",
   "mimetype": "text/x-python",
   "name": "python",
   "nbconvert_exporter": "python",
   "pygments_lexer": "ipython3",
   "version": "3.9.12"
  }
 },
 "nbformat": 4,
 "nbformat_minor": 5
}
