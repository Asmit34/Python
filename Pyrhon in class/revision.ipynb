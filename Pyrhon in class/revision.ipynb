{
 "cells": [
  {
   "cell_type": "code",
   "execution_count": 1,
   "id": "a7fd72fe",
   "metadata": {},
   "outputs": [],
   "source": [
    "#WAP to input string and concatenate another string to it"
   ]
  },
  {
   "cell_type": "code",
   "execution_count": 2,
   "id": "1d12ffe6",
   "metadata": {},
   "outputs": [
    {
     "name": "stdout",
     "output_type": "stream",
     "text": [
      "Enter a number1\n",
      "11\n"
     ]
    }
   ],
   "source": [
    "num=int(input(\"Enter a number\"))\n",
    "print(num+10)"
   ]
  },
  {
   "cell_type": "code",
   "execution_count": 3,
   "id": "00a530d8",
   "metadata": {},
   "outputs": [],
   "source": [
    "#WAP to input string and concatenate another string to it"
   ]
  },
  {
   "cell_type": "code",
   "execution_count": 4,
   "id": "86f9b353",
   "metadata": {},
   "outputs": [
    {
     "name": "stdout",
     "output_type": "stream",
     "text": [
      "First name:Asmit\n",
      "last name:OLi\n",
      "FUll name: Asmit is OLi\n"
     ]
    }
   ],
   "source": [
    "str1=input(\"First name:\")\n",
    "str2=input(\"last name:\")\n",
    "str=str1+\" is \"+str2\n",
    "print(\"FUll name:\",str)"
   ]
  },
  {
   "cell_type": "code",
   "execution_count": 5,
   "id": "e92c73eb",
   "metadata": {},
   "outputs": [],
   "source": [
    "#Write a program to find sum of two numbers. Use input() function to take input from the user"
   ]
  },
  {
   "cell_type": "code",
   "execution_count": 6,
   "id": "57dea1fd",
   "metadata": {},
   "outputs": [
    {
     "name": "stdout",
     "output_type": "stream",
     "text": [
      "Enter first number3\n",
      "enter second number9\n",
      "12\n"
     ]
    }
   ],
   "source": [
    "num1=int(input(\"Enter first number\"))\n",
    "num2=int(input(\"enter second number\"))\n",
    "print(num1+num2)"
   ]
  },
  {
   "cell_type": "code",
   "execution_count": 7,
   "id": "cdf91fcf",
   "metadata": {},
   "outputs": [],
   "source": [
    "#take input a and b add it and <br> format the output a+b and print using f-formatting"
   ]
  },
  {
   "cell_type": "code",
   "execution_count": 8,
   "id": "c6278d10",
   "metadata": {},
   "outputs": [
    {
     "data": {
      "text/plain": [
       "'output:8'"
      ]
     },
     "execution_count": 8,
     "metadata": {},
     "output_type": "execute_result"
    }
   ],
   "source": [
    "a=4\n",
    "b=4\n",
    "f\"output:{a+b}\""
   ]
  },
  {
   "cell_type": "code",
   "execution_count": 9,
   "id": "6e36bede",
   "metadata": {},
   "outputs": [],
   "source": [
    "#INPUT = \"I Love Nepal\"   OUTPUT***: [\"i\", \"love\", \"nepal\"]"
   ]
  },
  {
   "cell_type": "code",
   "execution_count": 10,
   "id": "a3c1d865",
   "metadata": {},
   "outputs": [
    {
     "data": {
      "text/plain": [
       "['i', 'love', 'nepal']"
      ]
     },
     "execution_count": 10,
     "metadata": {},
     "output_type": "execute_result"
    }
   ],
   "source": [
    "inp=\"I love Nepal\"\n",
    "[i.casefold() for i in inp.split()]\n"
   ]
  },
  {
   "cell_type": "code",
   "execution_count": 11,
   "id": "7a8af1dd",
   "metadata": {},
   "outputs": [
    {
     "name": "stdout",
     "output_type": "stream",
     "text": [
      "['I']\n",
      "['I', 'Love']\n",
      "['I', 'Love', 'Nepal']\n"
     ]
    }
   ],
   "source": [
    "s = \"I Love Nepal\"\n",
    "\n",
    "result = []\n",
    "for i in s.split():\n",
    "    result.append(i)\n",
    "    print(result)\n",
    "    "
   ]
  },
  {
   "cell_type": "code",
   "execution_count": 12,
   "id": "ed3afbde",
   "metadata": {},
   "outputs": [],
   "source": [
    "#Write a program to test whether a number is even or odd"
   ]
  },
  {
   "cell_type": "code",
   "execution_count": 13,
   "id": "c8b9f4e0",
   "metadata": {},
   "outputs": [
    {
     "name": "stdout",
     "output_type": "stream",
     "text": [
      "Enter a number4\n",
      "number is even\n"
     ]
    }
   ],
   "source": [
    "inp=int(input(\"Enter a number\"))\n",
    "if inp%2==0:\n",
    "    print(\"number is even\")\n",
    "else:\n",
    "    print(\"number is odd\")"
   ]
  },
  {
   "cell_type": "code",
   "execution_count": 14,
   "id": "24af3284",
   "metadata": {},
   "outputs": [],
   "source": [
    "#Write a program to display “SMS, TU” 10 times using both for and while loop"
   ]
  },
  {
   "cell_type": "code",
   "execution_count": 15,
   "id": "b1c368cd",
   "metadata": {},
   "outputs": [
    {
     "name": "stdout",
     "output_type": "stream",
     "text": [
      "SMS,TU\n",
      "SMS,TU\n",
      "SMS,TU\n",
      "SMS,TU\n",
      "SMS,TU\n",
      "SMS,TU\n",
      "SMS,TU\n",
      "SMS,TU\n",
      "SMS,TU\n",
      "SMS,TU\n"
     ]
    }
   ],
   "source": [
    "inp=(\"SMS,TU\")\n",
    "for i in range(10):\n",
    "    print(inp)\n"
   ]
  },
  {
   "cell_type": "code",
   "execution_count": 16,
   "id": "8b798170",
   "metadata": {},
   "outputs": [],
   "source": [
    "#Write a program to find sum and average of 10 numbers stored in a list. Take 10 numbers input from the user and store it to the list"
   ]
  },
  {
   "cell_type": "code",
   "execution_count": 19,
   "id": "83661f58",
   "metadata": {},
   "outputs": [
    {
     "name": "stdout",
     "output_type": "stream",
     "text": [
      "Enter a number3\n",
      "Enter a number2\n",
      "Enter a number4\n",
      "Enter a number5\n",
      "Enter a number4\n",
      "Enter a number3\n",
      "Enter a number4\n",
      "Enter a number3\n",
      "Enter a number4\n",
      "Enter a number3\n",
      "Sum is: 35\n",
      "Average is: 3.5\n"
     ]
    }
   ],
   "source": [
    "result=[]\n",
    "for i in range(10):\n",
    "    ele=int(input(\"Enter a number\"))\n",
    "    result.append(ele)\n",
    "print(\"Sum is:\",sum(result)) \n",
    "print(\"Average is:\",sum(result)/len(result))\n",
    "    "
   ]
  },
  {
   "cell_type": "code",
   "execution_count": null,
   "id": "c29ecb07",
   "metadata": {},
   "outputs": [],
   "source": [
    "#Write a program to display prime numbers up to 100"
   ]
  },
  {
   "cell_type": "code",
   "execution_count": null,
   "id": "9140ab5d",
   "metadata": {},
   "outputs": [],
   "source": [
    "for j in range(1,101):              #printing prime number upto 100\n",
    "    if j>1:\n",
    "        for i in range(2,j):\n",
    "            if j%i==0:\n",
    "               break\n",
    "        else:\n",
    "           print(j,end=' ')\n",
    "\n",
    "print(end='\\n')\n",
    "\n",
    "result=[i for i in range(1,101) if i%2==0]     \n",
    "print(result)\n",
    "    "
   ]
  },
  {
   "cell_type": "code",
   "execution_count": null,
   "id": "fb08f8fe",
   "metadata": {},
   "outputs": [],
   "source": [
    "#Write a program to count number of vowels in a string"
   ]
  },
  {
   "cell_type": "code",
   "execution_count": null,
   "id": "fc12b876",
   "metadata": {},
   "outputs": [],
   "source": [
    "count=0\n",
    "count2=0\n",
    "for i in \"hello\":                      #to count the number of vowels using for loop\n",
    "    if i in \"aeiou\":\n",
    "        count=count+1\n",
    "    else:\n",
    "        count2=count2+1\n",
    "print(f\"Number of vowels is {count}\")\n",
    "print(f\"Number of consonant is {count2}\")        \n"
   ]
  },
  {
   "cell_type": "code",
   "execution_count": null,
   "id": "6c0e15cd",
   "metadata": {},
   "outputs": [],
   "source": [
    "#Write a program to find smallest and largest number among 10 numbers stored in a list."
   ]
  },
  {
   "cell_type": "code",
   "execution_count": null,
   "id": "47f4245c",
   "metadata": {},
   "outputs": [],
   "source": [
    "a=[1,2,3,4,5,6,7,8,9,0]\n",
    "print(max(a))\n",
    "print(min(a))"
   ]
  },
  {
   "cell_type": "code",
   "execution_count": 3,
   "id": "3895d8d4",
   "metadata": {},
   "outputs": [
    {
     "name": "stdout",
     "output_type": "stream",
     "text": [
      "Asmt s currently lvng n Kathmandu\n"
     ]
    }
   ],
   "source": [
    "s=\"Asmit is currently living in Kathmandu\"\n",
    "s1=s.replace(\"i\",\"\")\n",
    "print (s1)"
   ]
  },
  {
   "cell_type": "markdown",
   "id": "e980d419",
   "metadata": {},
   "source": [
    "### "
   ]
  }
 ],
 "metadata": {
  "kernelspec": {
   "display_name": "Python 3 (ipykernel)",
   "language": "python",
   "name": "python3"
  },
  "language_info": {
   "codemirror_mode": {
    "name": "ipython",
    "version": 3
   },
   "file_extension": ".py",
   "mimetype": "text/x-python",
   "name": "python",
   "nbconvert_exporter": "python",
   "pygments_lexer": "ipython3",
   "version": "3.9.13"
  }
 },
 "nbformat": 4,
 "nbformat_minor": 5
}
