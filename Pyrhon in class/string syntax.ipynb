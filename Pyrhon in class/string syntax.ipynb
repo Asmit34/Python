{
 "cells": [
  {
   "cell_type": "code",
   "execution_count": null,
   "id": "52033acf",
   "metadata": {},
   "outputs": [],
   "source": [
    "#string with Syntax"
   ]
  },
  {
   "cell_type": "code",
   "execution_count": 44,
   "id": "e8de872f",
   "metadata": {},
   "outputs": [],
   "source": [
    "a=\"good morning\"\n",
    "b=\"Welcome Home\"\n",
    "c=\"I am fine\"\n",
    "d=\"WHAT THE FUCK\""
   ]
  },
  {
   "cell_type": "code",
   "execution_count": null,
   "id": "4a958ff6",
   "metadata": {},
   "outputs": [],
   "source": [
    "#capitalize() -->change first character to capital and all other to small"
   ]
  },
  {
   "cell_type": "code",
   "execution_count": 23,
   "id": "b289e8f9",
   "metadata": {},
   "outputs": [
    {
     "name": "stdout",
     "output_type": "stream",
     "text": [
      "Good morning\n",
      "Welcome home\n",
      "I am fine\n"
     ]
    }
   ],
   "source": [
    "print(a.capitalize())\n",
    "print(b.capitalize())\n",
    "print(c.capitalize())\n"
   ]
  },
  {
   "cell_type": "code",
   "execution_count": null,
   "id": "8c18fc7f",
   "metadata": {},
   "outputs": [],
   "source": [
    "#casefold()-->change all chacter to small"
   ]
  },
  {
   "cell_type": "code",
   "execution_count": 31,
   "id": "48dd9fb6",
   "metadata": {},
   "outputs": [
    {
     "name": "stdout",
     "output_type": "stream",
     "text": [
      "good morning\n",
      "welcome home\n",
      "i am fine\n",
      "what the fuck\n"
     ]
    }
   ],
   "source": [
    "print(a.casefold())\n",
    "print(b.casefold())\n",
    "print(c.casefold())\n",
    "print(d.casefold())"
   ]
  },
  {
   "cell_type": "code",
   "execution_count": null,
   "id": "ad36df28",
   "metadata": {},
   "outputs": [],
   "source": [
    "#center-->moves 20 space toward the center"
   ]
  },
  {
   "cell_type": "code",
   "execution_count": 36,
   "id": "5f75a087",
   "metadata": {},
   "outputs": [
    {
     "name": "stdout",
     "output_type": "stream",
     "text": [
      "@@@@good Morning@@@@\n",
      "****Welcome Home****\n",
      "#####I am fine######\n",
      "   WHAT THE FUCK    \n"
     ]
    }
   ],
   "source": [
    "print(a.center(20,'@'))\n",
    "print(b.center(20,'*'))\n",
    "print(c.center(20,'#'))\n",
    "print(d.center(20))"
   ]
  },
  {
   "cell_type": "code",
   "execution_count": null,
   "id": "dfc5f788",
   "metadata": {},
   "outputs": [],
   "source": [
    "#count()-->Number of time specified value occures in string"
   ]
  },
  {
   "cell_type": "code",
   "execution_count": 42,
   "id": "75fb6f9a",
   "metadata": {},
   "outputs": [
    {
     "name": "stdout",
     "output_type": "stream",
     "text": [
      "2\n",
      "2\n",
      "1\n",
      "0\n"
     ]
    }
   ],
   "source": [
    "print(a.count('n'))\n",
    "print(b.count('o'))\n",
    "print(c.count('m'))\n",
    "print(d.count('a'))"
   ]
  },
  {
   "cell_type": "code",
   "execution_count": null,
   "id": "b4d02151",
   "metadata": {},
   "outputs": [],
   "source": [
    "#swapcase() -->change upper case to lower case and vice versa "
   ]
  },
  {
   "cell_type": "code",
   "execution_count": 46,
   "id": "a68c83bf",
   "metadata": {},
   "outputs": [
    {
     "name": "stdout",
     "output_type": "stream",
     "text": [
      "GOOD MORNING\n",
      "wELCOME hOME\n",
      "i AM FINE\n",
      "what the fuck\n"
     ]
    }
   ],
   "source": [
    "print(a.swapcase())\n",
    "print(b.swapcase())\n",
    "print(c.swapcase())\n",
    "print(d.swapcase())"
   ]
  },
  {
   "cell_type": "code",
   "execution_count": null,
   "id": "53ea9bf5",
   "metadata": {},
   "outputs": [],
   "source": []
  },
  {
   "cell_type": "code",
   "execution_count": null,
   "id": "51be1fae",
   "metadata": {},
   "outputs": [],
   "source": []
  }
 ],
 "metadata": {
  "kernelspec": {
   "display_name": "Python 3 (ipykernel)",
   "language": "python",
   "name": "python3"
  },
  "language_info": {
   "codemirror_mode": {
    "name": "ipython",
    "version": 3
   },
   "file_extension": ".py",
   "mimetype": "text/x-python",
   "name": "python",
   "nbconvert_exporter": "python",
   "pygments_lexer": "ipython3",
   "version": "3.9.12"
  }
 },
 "nbformat": 4,
 "nbformat_minor": 5
}
