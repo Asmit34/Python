{
 "cells": [
  {
   "cell_type": "code",
   "execution_count": 1,
   "id": "42fb0b32",
   "metadata": {},
   "outputs": [],
   "source": [
    "import pandas as pd\n",
    "import numpy as np"
   ]
  },
  {
   "cell_type": "code",
   "execution_count": 2,
   "id": "d89231ea",
   "metadata": {},
   "outputs": [],
   "source": [
    "a=pd.read_csv(\"SANIMA.csv\")"
   ]
  },
  {
   "cell_type": "code",
   "execution_count": 3,
   "id": "26f214ee",
   "metadata": {},
   "outputs": [
    {
     "data": {
      "text/html": [
       "<div>\n",
       "<style scoped>\n",
       "    .dataframe tbody tr th:only-of-type {\n",
       "        vertical-align: middle;\n",
       "    }\n",
       "\n",
       "    .dataframe tbody tr th {\n",
       "        vertical-align: top;\n",
       "    }\n",
       "\n",
       "    .dataframe thead th {\n",
       "        text-align: right;\n",
       "    }\n",
       "</style>\n",
       "<table border=\"1\" class=\"dataframe\">\n",
       "  <thead>\n",
       "    <tr style=\"text-align: right;\">\n",
       "      <th></th>\n",
       "      <th>published_date</th>\n",
       "      <th>open</th>\n",
       "      <th>high</th>\n",
       "      <th>low</th>\n",
       "      <th>close</th>\n",
       "      <th>per_change</th>\n",
       "      <th>traded_quantity</th>\n",
       "      <th>traded_amount</th>\n",
       "      <th>status</th>\n",
       "    </tr>\n",
       "  </thead>\n",
       "  <tbody>\n",
       "    <tr>\n",
       "      <th>0</th>\n",
       "      <td>1/1/2020</td>\n",
       "      <td>314.0</td>\n",
       "      <td>314.0</td>\n",
       "      <td>312.0</td>\n",
       "      <td>313.0</td>\n",
       "      <td>0.00</td>\n",
       "      <td>5127.0</td>\n",
       "      <td>1604871.0</td>\n",
       "      <td>0</td>\n",
       "    </tr>\n",
       "    <tr>\n",
       "      <th>1</th>\n",
       "      <td>1/2/2020</td>\n",
       "      <td>311.0</td>\n",
       "      <td>313.0</td>\n",
       "      <td>311.0</td>\n",
       "      <td>313.0</td>\n",
       "      <td>0.00</td>\n",
       "      <td>11998.0</td>\n",
       "      <td>3746067.0</td>\n",
       "      <td>0</td>\n",
       "    </tr>\n",
       "    <tr>\n",
       "      <th>2</th>\n",
       "      <td>1/5/2020</td>\n",
       "      <td>313.0</td>\n",
       "      <td>321.0</td>\n",
       "      <td>313.0</td>\n",
       "      <td>318.0</td>\n",
       "      <td>1.60</td>\n",
       "      <td>15644.0</td>\n",
       "      <td>4962350.0</td>\n",
       "      <td>1</td>\n",
       "    </tr>\n",
       "    <tr>\n",
       "      <th>3</th>\n",
       "      <td>1/6/2020</td>\n",
       "      <td>321.0</td>\n",
       "      <td>327.0</td>\n",
       "      <td>321.0</td>\n",
       "      <td>326.0</td>\n",
       "      <td>2.52</td>\n",
       "      <td>28001.0</td>\n",
       "      <td>9077192.0</td>\n",
       "      <td>1</td>\n",
       "    </tr>\n",
       "    <tr>\n",
       "      <th>4</th>\n",
       "      <td>1/7/2020</td>\n",
       "      <td>331.0</td>\n",
       "      <td>338.0</td>\n",
       "      <td>327.0</td>\n",
       "      <td>334.0</td>\n",
       "      <td>2.45</td>\n",
       "      <td>59699.0</td>\n",
       "      <td>19808354.0</td>\n",
       "      <td>1</td>\n",
       "    </tr>\n",
       "    <tr>\n",
       "      <th>...</th>\n",
       "      <td>...</td>\n",
       "      <td>...</td>\n",
       "      <td>...</td>\n",
       "      <td>...</td>\n",
       "      <td>...</td>\n",
       "      <td>...</td>\n",
       "      <td>...</td>\n",
       "      <td>...</td>\n",
       "      <td>...</td>\n",
       "    </tr>\n",
       "    <tr>\n",
       "      <th>547</th>\n",
       "      <td>7/6/2022</td>\n",
       "      <td>276.4</td>\n",
       "      <td>276.4</td>\n",
       "      <td>265.7</td>\n",
       "      <td>272.0</td>\n",
       "      <td>0.37</td>\n",
       "      <td>32594.0</td>\n",
       "      <td>8781971.1</td>\n",
       "      <td>1</td>\n",
       "    </tr>\n",
       "    <tr>\n",
       "      <th>548</th>\n",
       "      <td>7/7/2022</td>\n",
       "      <td>267.0</td>\n",
       "      <td>277.0</td>\n",
       "      <td>264.6</td>\n",
       "      <td>267.0</td>\n",
       "      <td>-1.84</td>\n",
       "      <td>73488.0</td>\n",
       "      <td>19679072.3</td>\n",
       "      <td>-1</td>\n",
       "    </tr>\n",
       "    <tr>\n",
       "      <th>549</th>\n",
       "      <td>7/8/2022</td>\n",
       "      <td>272.3</td>\n",
       "      <td>272.3</td>\n",
       "      <td>260.0</td>\n",
       "      <td>260.0</td>\n",
       "      <td>-2.62</td>\n",
       "      <td>48937.0</td>\n",
       "      <td>12870751.2</td>\n",
       "      <td>-1</td>\n",
       "    </tr>\n",
       "    <tr>\n",
       "      <th>550</th>\n",
       "      <td>7/11/2022</td>\n",
       "      <td>260.1</td>\n",
       "      <td>260.2</td>\n",
       "      <td>252.9</td>\n",
       "      <td>253.0</td>\n",
       "      <td>-2.69</td>\n",
       "      <td>55890.0</td>\n",
       "      <td>14266110.9</td>\n",
       "      <td>-1</td>\n",
       "    </tr>\n",
       "    <tr>\n",
       "      <th>551</th>\n",
       "      <td>7/12/2022</td>\n",
       "      <td>254.0</td>\n",
       "      <td>260.0</td>\n",
       "      <td>249.0</td>\n",
       "      <td>260.0</td>\n",
       "      <td>2.77</td>\n",
       "      <td>47194.0</td>\n",
       "      <td>11996186.0</td>\n",
       "      <td>1</td>\n",
       "    </tr>\n",
       "  </tbody>\n",
       "</table>\n",
       "<p>552 rows × 9 columns</p>\n",
       "</div>"
      ],
      "text/plain": [
       "    published_date   open   high    low  close  per_change  traded_quantity  \\\n",
       "0         1/1/2020  314.0  314.0  312.0  313.0        0.00           5127.0   \n",
       "1         1/2/2020  311.0  313.0  311.0  313.0        0.00          11998.0   \n",
       "2         1/5/2020  313.0  321.0  313.0  318.0        1.60          15644.0   \n",
       "3         1/6/2020  321.0  327.0  321.0  326.0        2.52          28001.0   \n",
       "4         1/7/2020  331.0  338.0  327.0  334.0        2.45          59699.0   \n",
       "..             ...    ...    ...    ...    ...         ...              ...   \n",
       "547       7/6/2022  276.4  276.4  265.7  272.0        0.37          32594.0   \n",
       "548       7/7/2022  267.0  277.0  264.6  267.0       -1.84          73488.0   \n",
       "549       7/8/2022  272.3  272.3  260.0  260.0       -2.62          48937.0   \n",
       "550      7/11/2022  260.1  260.2  252.9  253.0       -2.69          55890.0   \n",
       "551      7/12/2022  254.0  260.0  249.0  260.0        2.77          47194.0   \n",
       "\n",
       "     traded_amount  status  \n",
       "0        1604871.0       0  \n",
       "1        3746067.0       0  \n",
       "2        4962350.0       1  \n",
       "3        9077192.0       1  \n",
       "4       19808354.0       1  \n",
       "..             ...     ...  \n",
       "547      8781971.1       1  \n",
       "548     19679072.3      -1  \n",
       "549     12870751.2      -1  \n",
       "550     14266110.9      -1  \n",
       "551     11996186.0       1  \n",
       "\n",
       "[552 rows x 9 columns]"
      ]
     },
     "execution_count": 3,
     "metadata": {},
     "output_type": "execute_result"
    }
   ],
   "source": [
    "a"
   ]
  },
  {
   "cell_type": "code",
   "execution_count": 4,
   "id": "8371f7f3",
   "metadata": {},
   "outputs": [
    {
     "data": {
      "text/plain": [
       "published_date     2\n",
       "open               0\n",
       "high               0\n",
       "low                0\n",
       "close              0\n",
       "per_change         0\n",
       "traded_quantity    2\n",
       "traded_amount      0\n",
       "status             0\n",
       "dtype: int64"
      ]
     },
     "execution_count": 4,
     "metadata": {},
     "output_type": "execute_result"
    }
   ],
   "source": [
    "a.isna().sum()"
   ]
  },
  {
   "cell_type": "code",
   "execution_count": 5,
   "id": "76bf921a",
   "metadata": {},
   "outputs": [],
   "source": [
    "a.dropna(how=\"any\",inplace=True)"
   ]
  },
  {
   "cell_type": "code",
   "execution_count": 6,
   "id": "79dce8e3",
   "metadata": {},
   "outputs": [
    {
     "data": {
      "text/plain": [
       "published_date     0\n",
       "open               0\n",
       "high               0\n",
       "low                0\n",
       "close              0\n",
       "per_change         0\n",
       "traded_quantity    0\n",
       "traded_amount      0\n",
       "status             0\n",
       "dtype: int64"
      ]
     },
     "execution_count": 6,
     "metadata": {},
     "output_type": "execute_result"
    }
   ],
   "source": [
    "a.isna().sum()"
   ]
  },
  {
   "cell_type": "code",
   "execution_count": 7,
   "id": "9e709327",
   "metadata": {},
   "outputs": [
    {
     "name": "stdout",
     "output_type": "stream",
     "text": [
      "min: 7950.0\n",
      "max: 341583972.1\n"
     ]
    }
   ],
   "source": [
    "print(\"min:\",min(a[\"traded_amount\"]))\n",
    "print(\"max:\",max(a[\"traded_amount\"]))\n"
   ]
  },
  {
   "cell_type": "code",
   "execution_count": 8,
   "id": "fec517b8",
   "metadata": {},
   "outputs": [
    {
     "ename": "NameError",
     "evalue": "name 'df' is not defined",
     "output_type": "error",
     "traceback": [
      "\u001b[1;31m---------------------------------------------------------------------------\u001b[0m",
      "\u001b[1;31mNameError\u001b[0m                                 Traceback (most recent call last)",
      "\u001b[1;32m~\\AppData\\Local\\Temp\\ipykernel_12144\\3011396860.py\u001b[0m in \u001b[0;36m<module>\u001b[1;34m\u001b[0m\n\u001b[0;32m      4\u001b[0m     \u001b[0mdf\u001b[0m\u001b[1;33m[\u001b[0m\u001b[1;34m\"traded_amount\"\u001b[0m\u001b[1;33m]\u001b[0m\u001b[1;33m=\u001b[0m\u001b[1;33m[\u001b[0m\u001b[0mround\u001b[0m\u001b[1;33m(\u001b[0m\u001b[1;33m(\u001b[0m\u001b[0mi\u001b[0m\u001b[1;33m-\u001b[0m\u001b[0mmin\u001b[0m\u001b[1;33m(\u001b[0m\u001b[0ma\u001b[0m\u001b[1;33m)\u001b[0m\u001b[1;33m)\u001b[0m\u001b[1;33m/\u001b[0m\u001b[1;33m(\u001b[0m\u001b[0mmax\u001b[0m\u001b[1;33m(\u001b[0m\u001b[0ma\u001b[0m\u001b[1;33m)\u001b[0m\u001b[1;33m-\u001b[0m\u001b[0mmin\u001b[0m\u001b[1;33m(\u001b[0m\u001b[0ma\u001b[0m\u001b[1;33m)\u001b[0m\u001b[1;33m)\u001b[0m\u001b[1;33m,\u001b[0m\u001b[1;36m2\u001b[0m\u001b[1;33m)\u001b[0m\u001b[1;32mfor\u001b[0m \u001b[0mi\u001b[0m \u001b[1;32min\u001b[0m \u001b[0mdata\u001b[0m\u001b[1;33m]\u001b[0m\u001b[1;33m\u001b[0m\u001b[1;33m\u001b[0m\u001b[0m\n\u001b[0;32m      5\u001b[0m     \u001b[1;32mreturn\u001b[0m \u001b[0mdf\u001b[0m\u001b[1;33m\u001b[0m\u001b[1;33m\u001b[0m\u001b[0m\n\u001b[1;32m----> 6\u001b[1;33m \u001b[0mprint\u001b[0m\u001b[1;33m(\u001b[0m\u001b[0mnormalize\u001b[0m\u001b[1;33m(\u001b[0m\u001b[0ma\u001b[0m\u001b[1;33m)\u001b[0m\u001b[1;33m)\u001b[0m\u001b[1;33m\u001b[0m\u001b[1;33m\u001b[0m\u001b[0m\n\u001b[0m",
      "\u001b[1;32m~\\AppData\\Local\\Temp\\ipykernel_12144\\3011396860.py\u001b[0m in \u001b[0;36mnormalize\u001b[1;34m(a)\u001b[0m\n\u001b[0;32m      1\u001b[0m \u001b[1;32mdef\u001b[0m \u001b[0mnormalize\u001b[0m\u001b[1;33m(\u001b[0m\u001b[0ma\u001b[0m\u001b[1;33m)\u001b[0m\u001b[1;33m:\u001b[0m\u001b[1;33m\u001b[0m\u001b[1;33m\u001b[0m\u001b[0m\n\u001b[1;32m----> 2\u001b[1;33m     \u001b[0mdata\u001b[0m\u001b[1;33m=\u001b[0m\u001b[0mdf\u001b[0m\u001b[1;33m[\u001b[0m\u001b[1;34m\"traded_amount\"\u001b[0m\u001b[1;33m]\u001b[0m\u001b[1;33m\u001b[0m\u001b[1;33m\u001b[0m\u001b[0m\n\u001b[0m\u001b[0;32m      3\u001b[0m     \u001b[1;31m#setting\u001b[0m\u001b[1;33m\u001b[0m\u001b[1;33m\u001b[0m\u001b[0m\n\u001b[0;32m      4\u001b[0m     \u001b[0mdf\u001b[0m\u001b[1;33m[\u001b[0m\u001b[1;34m\"traded_amount\"\u001b[0m\u001b[1;33m]\u001b[0m\u001b[1;33m=\u001b[0m\u001b[1;33m[\u001b[0m\u001b[0mround\u001b[0m\u001b[1;33m(\u001b[0m\u001b[1;33m(\u001b[0m\u001b[0mi\u001b[0m\u001b[1;33m-\u001b[0m\u001b[0mmin\u001b[0m\u001b[1;33m(\u001b[0m\u001b[0ma\u001b[0m\u001b[1;33m)\u001b[0m\u001b[1;33m)\u001b[0m\u001b[1;33m/\u001b[0m\u001b[1;33m(\u001b[0m\u001b[0mmax\u001b[0m\u001b[1;33m(\u001b[0m\u001b[0ma\u001b[0m\u001b[1;33m)\u001b[0m\u001b[1;33m-\u001b[0m\u001b[0mmin\u001b[0m\u001b[1;33m(\u001b[0m\u001b[0ma\u001b[0m\u001b[1;33m)\u001b[0m\u001b[1;33m)\u001b[0m\u001b[1;33m,\u001b[0m\u001b[1;36m2\u001b[0m\u001b[1;33m)\u001b[0m\u001b[1;32mfor\u001b[0m \u001b[0mi\u001b[0m \u001b[1;32min\u001b[0m \u001b[0mdata\u001b[0m\u001b[1;33m]\u001b[0m\u001b[1;33m\u001b[0m\u001b[1;33m\u001b[0m\u001b[0m\n\u001b[0;32m      5\u001b[0m     \u001b[1;32mreturn\u001b[0m \u001b[0mdf\u001b[0m\u001b[1;33m\u001b[0m\u001b[1;33m\u001b[0m\u001b[0m\n",
      "\u001b[1;31mNameError\u001b[0m: name 'df' is not defined"
     ]
    }
   ],
   "source": [
    "def normalize(a):\n",
    "    data=df[\"traded_amount\"]\n",
    "    #setting\n",
    "    df[\"traded_amount\"]=[round((i-min(a))/(max(a)-min(a)),2)for i in data]\n",
    "    return df\n",
    "print(normalize(a))"
   ]
  },
  {
   "cell_type": "code",
   "execution_count": null,
   "id": "b75db178",
   "metadata": {},
   "outputs": [],
   "source": [
    "def bubble_sort(nums):\n",
    "    n = len(nums)\n",
    "    # Traverse through all array element\n",
    "    for i in range(n):\n",
    "        # Last i elements are already sorted\n",
    "        for j in range(0, n-i-1):\n",
    "            # Swap if the element found is greater than the next element\n",
    "            if nums[j] > nums[j+1] :\n",
    "                nums[j], nums[j+1] = nums[j+1], nums[j]\n",
    "\n",
    "# Example usage:\n",
    "nums = [64, 34, 25, 12, 22, 11, 90]\n",
    "bubble_sort(nums)\n",
    "print(\"Sorted array is:\", nums)"
   ]
  },
  {
   "cell_type": "code",
   "execution_count": null,
   "id": "a89b214c",
   "metadata": {},
   "outputs": [],
   "source": [
    "def find_duplicates(lst):\n",
    "    \"\"\"\n",
    "    Finds and returns a new list of repeated items in a provided list.\n",
    "    \"\"\"\n",
    "    duplicates = []\n",
    "    for item in lst:\n",
    "        if lst.count(item) > 1 and item not in duplicates:\n",
    "            duplicates.append(item)\n",
    "    return duplicates"
   ]
  }
 ],
 "metadata": {
  "kernelspec": {
   "display_name": "Python 3 (ipykernel)",
   "language": "python",
   "name": "python3"
  },
  "language_info": {
   "codemirror_mode": {
    "name": "ipython",
    "version": 3
   },
   "file_extension": ".py",
   "mimetype": "text/x-python",
   "name": "python",
   "nbconvert_exporter": "python",
   "pygments_lexer": "ipython3",
   "version": "3.9.13"
  }
 },
 "nbformat": 4,
 "nbformat_minor": 5
}
