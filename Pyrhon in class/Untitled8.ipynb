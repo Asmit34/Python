{
 "cells": [
  {
   "cell_type": "code",
   "execution_count": 1,
   "id": "1f1043b6",
   "metadata": {},
   "outputs": [],
   "source": [
    "class Student:\n",
    "    pass"
   ]
  },
  {
   "cell_type": "code",
   "execution_count": 2,
   "id": "6bec7e12",
   "metadata": {},
   "outputs": [],
   "source": [
    "Asmit=Student()\n",
    "Aayush=Student()\n",
    "\n",
    "Asmit.name=\"ASMIT\"\n",
    "Asmit.age=21\n",
    "Aayush.name=\"Aayush\"\n",
    "\n",
    "Aayush.age=16\n",
    "Asmit.subject={\"Python\",\"JAVA\",\"HTML\"} #we can also use list\n",
    "#print(Asmit.name,Aayush.age)\n",
    "#print(Asmit.age)\n",
    "#print(f\"My name is {Asmit.name} and my brother name is {Aayush.name} \")"
   ]
  },
  {
   "cell_type": "code",
   "execution_count": 3,
   "id": "59482173",
   "metadata": {},
   "outputs": [
    {
     "name": "stdout",
     "output_type": "stream",
     "text": [
      "My name is ASMIT and my brother name is Aayush \n",
      "I read this Subject {'JAVA', 'Python', 'HTML'}\n"
     ]
    }
   ],
   "source": [
    "print(f\"My name is {Asmit.name} and my brother name is {Aayush.name} \")\n",
    "print(f\"I read this Subject {Asmit.subject}\")"
   ]
  },
  {
   "cell_type": "code",
   "execution_count": 4,
   "id": "16323afe",
   "metadata": {},
   "outputs": [],
   "source": [
    "#we cannot change class variable using instance \n",
    "#let see it in Example"
   ]
  },
  {
   "cell_type": "code",
   "execution_count": 5,
   "id": "65f6236f",
   "metadata": {},
   "outputs": [],
   "source": [
    "class Employee:\n",
    "    NoOfLeave=8\n",
    "    pass"
   ]
  },
  {
   "cell_type": "code",
   "execution_count": 6,
   "id": "a3ef3e17",
   "metadata": {},
   "outputs": [
    {
     "name": "stdout",
     "output_type": "stream",
     "text": [
      "6\n",
      "9\n",
      "{'name': 'Asmit', 'role': 'Student', 'salar': 20000, 'NoOfLeave': 6}\n",
      "{'__module__': '__main__', 'NoOfLeave': 9, '__dict__': <attribute '__dict__' of 'Employee' objects>, '__weakref__': <attribute '__weakref__' of 'Employee' objects>, '__doc__': None}\n"
     ]
    }
   ],
   "source": [
    "Asmit=Employee()\n",
    "Alish=Employee()\n",
    "\n",
    "Asmit.name=\"Asmit\"\n",
    "Asmit.role=\"Student\"\n",
    "Asmit.salar=20000\n",
    "\n",
    "Alish.name=\"Alish\"\n",
    "Alish.role=\"Student\"\n",
    "Alish.salar=2000\n",
    "\n",
    "Employee.NoOfLeave=9 \n",
    "Asmit.NoOfLeave=6\n",
    "print(Asmit.NoOfLeave)\n",
    "print(Alish.NoOfLeave)\n",
    "print(Asmit.__dict__)\n",
    "print(Employee.__dict__)"
   ]
  },
  {
   "cell_type": "code",
   "execution_count": 7,
   "id": "cc091c39",
   "metadata": {},
   "outputs": [],
   "source": [
    "#self"
   ]
  },
  {
   "cell_type": "code",
   "execution_count": 8,
   "id": "c254596b",
   "metadata": {},
   "outputs": [],
   "source": [
    "class Employee:\n",
    "    NoOfLeave=8\n",
    "    def printDetails(self):\n",
    "        return f\"Name is {self.name}.Salary is {self.salary}.Role is {self.role}\""
   ]
  },
  {
   "cell_type": "code",
   "execution_count": 9,
   "id": "58a39582",
   "metadata": {},
   "outputs": [
    {
     "name": "stdout",
     "output_type": "stream",
     "text": [
      "Name is Asmit Oli.Salary is 20000.Role is Student\n",
      "Name is Alish Oli.Salary is 30000.Role is Student\n"
     ]
    }
   ],
   "source": [
    "Asmit=Employee()\n",
    "Alish=Employee()\n",
    "\n",
    "Asmit.name=\"Asmit Oli\"\n",
    "Asmit.role=\"Student\"\n",
    "Asmit.salary=20000\n",
    "\n",
    "Alish.name=\"Alish Oli\"\n",
    "Alish.role=\"Student\"\n",
    "Alish.salary=30000\n",
    "\n",
    "Employee.NoOfLeave=9 \n",
    "Asmit.NoOfLeave=6\n",
    "#print(Asmit.NoOfLeave)\n",
    "#print(Alish.NoOfLeave)\n",
    "#print(Asmit.__dict__)\n",
    "#print(Employee.__dict__)\n",
    "print(Asmit.printDetails())\n",
    "print(Alish.printDetails())"
   ]
  },
  {
   "cell_type": "code",
   "execution_count": 19,
   "id": "9a42f434",
   "metadata": {},
   "outputs": [],
   "source": [
    "class Employee:\n",
    "    def __init__(self,name,salary,role):\n",
    "        self.name=name\n",
    "        self.salary=salary\n",
    "        self.role=role\n",
    "    def printDetails(self):    \n",
    "        print(f\"Name is {self.name}.Salary is {self.salary}.Role is {self.role}\")\n",
    "        "
   ]
  },
  {
   "cell_type": "code",
   "execution_count": 20,
   "id": "ed5fb855",
   "metadata": {},
   "outputs": [
    {
     "name": "stdout",
     "output_type": "stream",
     "text": [
      "Name is Asmit Oli.Salary is 30000.Role is Student\n"
     ]
    }
   ],
   "source": [
    "Aayush=Employee(\"Asmit Oli\",30000,\"Student\")\n",
    "Aayush.printDetails()"
   ]
  },
  {
   "cell_type": "code",
   "execution_count": null,
   "id": "360d67a1",
   "metadata": {},
   "outputs": [],
   "source": []
  },
  {
   "cell_type": "code",
   "execution_count": null,
   "id": "845e945c",
   "metadata": {},
   "outputs": [],
   "source": []
  }
 ],
 "metadata": {
  "kernelspec": {
   "display_name": "Python 3 (ipykernel)",
   "language": "python",
   "name": "python3"
  },
  "language_info": {
   "codemirror_mode": {
    "name": "ipython",
    "version": 3
   },
   "file_extension": ".py",
   "mimetype": "text/x-python",
   "name": "python",
   "nbconvert_exporter": "python",
   "pygments_lexer": "ipython3",
   "version": "3.9.12"
  }
 },
 "nbformat": 4,
 "nbformat_minor": 5
}
