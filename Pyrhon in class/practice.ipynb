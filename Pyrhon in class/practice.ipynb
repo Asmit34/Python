{
 "cells": [
  {
   "cell_type": "code",
   "execution_count": 1,
   "id": "f3b84f03",
   "metadata": {},
   "outputs": [
    {
     "name": "stdout",
     "output_type": "stream",
     "text": [
      "Enter any intege:4\n",
      "14\n"
     ]
    }
   ],
   "source": [
    "var=int(input(\"Enter any intege:\"))\n",
    "print(var+10)\n",
    "    "
   ]
  },
  {
   "cell_type": "code",
   "execution_count": 2,
   "id": "476c889d",
   "metadata": {},
   "outputs": [
    {
     "name": "stdout",
     "output_type": "stream",
     "text": [
      "Enter a number4\n",
      "number is even\n"
     ]
    }
   ],
   "source": [
    "inp=int(input(\"Enter a number\"))\n",
    "if inp%2==0:\n",
    "    print(\"number is even\")\n",
    "else:\n",
    "    print(\"number is odd\")"
   ]
  },
  {
   "cell_type": "code",
   "execution_count": 3,
   "id": "f2f6447d",
   "metadata": {},
   "outputs": [
    {
     "ename": "IndentationError",
     "evalue": "expected an indented block (3626928046.py, line 5)",
     "output_type": "error",
     "traceback": [
      "\u001b[1;36m  File \u001b[1;32m\"C:\\Users\\ASMITH OLI\\AppData\\Local\\Temp\\ipykernel_2104\\3626928046.py\"\u001b[1;36m, line \u001b[1;32m5\u001b[0m\n\u001b[1;33m    count += 1\u001b[0m\n\u001b[1;37m    ^\u001b[0m\n\u001b[1;31mIndentationError\u001b[0m\u001b[1;31m:\u001b[0m expected an indented block\n"
     ]
    }
   ],
   "source": [
    "print(\"My name is Vidyut\")\n",
    "count = 0;\n",
    "while count < 10:\n",
    "#print(\"My name is Vidyut\")\n",
    "count += 1"
   ]
  },
  {
   "cell_type": "code",
   "execution_count": null,
   "id": "71047cf3",
   "metadata": {
    "scrolled": true
   },
   "outputs": [],
   "source": [
    "str1=input(\"What is your name:\")\n",
    "str2=input(\"ASmit oli:\")\n",
    "result=str1 +\" \"+str2\n",
    "print(result)"
   ]
  },
  {
   "cell_type": "markdown",
   "id": "aec95c25",
   "metadata": {},
   "source": [
    " i=0\n",
    "while(i<10):\n",
    "    num=int(input(f\"ENter a{i} number\"))\n",
    "    i=i+1\n",
    "    num=num+i\n",
    "print(num)"
   ]
  },
  {
   "cell_type": "code",
   "execution_count": null,
   "id": "2e935117",
   "metadata": {},
   "outputs": [],
   "source": [
    "result=[]\n",
    "while True:\n",
    "    inp=int(input())\n",
    "    result.append(inp)\n",
    "    if len(inp==10):\n",
    "        break\n",
    "print(result)\n",
    "total=0\n",
    "for i in result:\n",
    "    total=total+i\n",
    "print(\"sum:\"total)\n",
    "print(\"average\",total/result)\n",
    "      "
   ]
  }
 ],
 "metadata": {
  "kernelspec": {
   "display_name": "Python 3 (ipykernel)",
   "language": "python",
   "name": "python3"
  },
  "language_info": {
   "codemirror_mode": {
    "name": "ipython",
    "version": 3
   },
   "file_extension": ".py",
   "mimetype": "text/x-python",
   "name": "python",
   "nbconvert_exporter": "python",
   "pygments_lexer": "ipython3",
   "version": "3.9.13"
  }
 },
 "nbformat": 4,
 "nbformat_minor": 5
}
