{
 "cells": [
  {
   "cell_type": "code",
   "execution_count": 1,
   "id": "df2f8bad",
   "metadata": {},
   "outputs": [],
   "source": [
    "import numpy as np"
   ]
  },
  {
   "cell_type": "code",
   "execution_count": 10,
   "id": "bc00d7f3",
   "metadata": {},
   "outputs": [],
   "source": [
    "a=np.array([[[1,2],[3,4],[1,2]],[[2,3],[2,6],[2,3]]])"
   ]
  },
  {
   "cell_type": "code",
   "execution_count": 11,
   "id": "e11c46ef",
   "metadata": {},
   "outputs": [
    {
     "data": {
      "text/plain": [
       "3"
      ]
     },
     "execution_count": 11,
     "metadata": {},
     "output_type": "execute_result"
    }
   ],
   "source": [
    "a.ndim"
   ]
  },
  {
   "cell_type": "code",
   "execution_count": null,
   "id": "ed2f062f",
   "metadata": {},
   "outputs": [],
   "source": [
    "b=np.array([[]])"
   ]
  },
  {
   "cell_type": "code",
   "execution_count": 12,
   "id": "02409013",
   "metadata": {},
   "outputs": [
    {
     "data": {
      "text/plain": [
       "(2, 3, 2)"
      ]
     },
     "execution_count": 12,
     "metadata": {},
     "output_type": "execute_result"
    }
   ],
   "source": [
    "a.shape"
   ]
  },
  {
   "cell_type": "code",
   "execution_count": 20,
   "id": "45bec324",
   "metadata": {},
   "outputs": [],
   "source": [
    "b=np.arange(1,10,3)"
   ]
  },
  {
   "cell_type": "code",
   "execution_count": 21,
   "id": "53092774",
   "metadata": {},
   "outputs": [
    {
     "data": {
      "text/plain": [
       "array([1, 4, 7])"
      ]
     },
     "execution_count": 21,
     "metadata": {},
     "output_type": "execute_result"
    }
   ],
   "source": [
    "b"
   ]
  },
  {
   "cell_type": "code",
   "execution_count": 18,
   "id": "079074fe",
   "metadata": {},
   "outputs": [],
   "source": [
    "c=np.linspace(1,100,20)"
   ]
  },
  {
   "cell_type": "code",
   "execution_count": 19,
   "id": "93de9481",
   "metadata": {},
   "outputs": [
    {
     "data": {
      "text/plain": [
       "array([  1.        ,   6.21052632,  11.42105263,  16.63157895,\n",
       "        21.84210526,  27.05263158,  32.26315789,  37.47368421,\n",
       "        42.68421053,  47.89473684,  53.10526316,  58.31578947,\n",
       "        63.52631579,  68.73684211,  73.94736842,  79.15789474,\n",
       "        84.36842105,  89.57894737,  94.78947368, 100.        ])"
      ]
     },
     "execution_count": 19,
     "metadata": {},
     "output_type": "execute_result"
    }
   ],
   "source": [
    "c"
   ]
  },
  {
   "cell_type": "code",
   "execution_count": 22,
   "id": "9c2300cb",
   "metadata": {},
   "outputs": [],
   "source": [
    "x=np.array([1,2,3,4])\n",
    "y=np.array([3,4,5,6])"
   ]
  },
  {
   "cell_type": "code",
   "execution_count": 23,
   "id": "91ef1e0e",
   "metadata": {},
   "outputs": [
    {
     "data": {
      "text/plain": [
       "array([ 4,  6,  8, 10])"
      ]
     },
     "execution_count": 23,
     "metadata": {},
     "output_type": "execute_result"
    }
   ],
   "source": [
    "x+y"
   ]
  },
  {
   "cell_type": "markdown",
   "id": "8d2eafe2",
   "metadata": {},
   "source": [
    "# Broadcasting"
   ]
  },
  {
   "cell_type": "code",
   "execution_count": 48,
   "id": "1c255cfb",
   "metadata": {},
   "outputs": [],
   "source": [
    "a=np.array([[[1,2,3,3],[1,2,2,3]],[[1,2,2,3],[1,2,3,3]],[[1,2,3,4],[1,2,3,5]]])\n",
    "b=np.array([[1,2,3,2],[1,2,3,4]])"
   ]
  },
  {
   "cell_type": "code",
   "execution_count": 46,
   "id": "ef26db77",
   "metadata": {},
   "outputs": [
    {
     "data": {
      "text/plain": [
       "(2, 4)"
      ]
     },
     "execution_count": 46,
     "metadata": {},
     "output_type": "execute_result"
    }
   ],
   "source": [
    "b.shape"
   ]
  },
  {
   "cell_type": "code",
   "execution_count": 49,
   "id": "42dfa880",
   "metadata": {},
   "outputs": [
    {
     "data": {
      "text/plain": [
       "array([[[2, 4, 6, 5],\n",
       "        [2, 4, 5, 7]],\n",
       "\n",
       "       [[2, 4, 5, 5],\n",
       "        [2, 4, 6, 7]],\n",
       "\n",
       "       [[2, 4, 6, 6],\n",
       "        [2, 4, 6, 9]]])"
      ]
     },
     "execution_count": 49,
     "metadata": {},
     "output_type": "execute_result"
    }
   ],
   "source": [
    "a+b"
   ]
  },
  {
   "cell_type": "markdown",
   "id": "d0f2f79c",
   "metadata": {},
   "source": [
    "# Where operation"
   ]
  },
  {
   "cell_type": "code",
   "execution_count": 51,
   "id": "053b26e7",
   "metadata": {},
   "outputs": [
    {
     "name": "stdout",
     "output_type": "stream",
     "text": [
      "(array([0, 0, 0, 1, 1, 1, 2, 2], dtype=int64), array([0, 0, 1, 0, 1, 1, 0, 1], dtype=int64), array([2, 3, 3, 3, 2, 3, 2, 2], dtype=int64))\n"
     ]
    }
   ],
   "source": [
    "print(np.where(a==3))"
   ]
  },
  {
   "cell_type": "code",
   "execution_count": 52,
   "id": "e8506ba4",
   "metadata": {},
   "outputs": [
    {
     "name": "stdout",
     "output_type": "stream",
     "text": [
      "(array([0, 0, 0, 1, 1, 1, 2, 2, 2], dtype=int64), array([0, 1, 1, 0, 0, 1, 0, 0, 1], dtype=int64), array([1, 1, 2, 1, 2, 1, 1, 3, 1], dtype=int64))\n"
     ]
    }
   ],
   "source": [
    "print(np.where(a%2==0))"
   ]
  },
  {
   "cell_type": "code",
   "execution_count": 58,
   "id": "9ff13d9f",
   "metadata": {},
   "outputs": [
    {
     "name": "stdout",
     "output_type": "stream",
     "text": [
      "(array([0, 0, 0, 1, 1, 1, 2, 2, 2], dtype=int64), array([0, 0, 1, 0, 1, 1, 0, 0, 1], dtype=int64), array([2, 3, 3, 3, 2, 3, 2, 3, 2], dtype=int64))\n"
     ]
    }
   ],
   "source": [
    "print(np.where((a<5)&(a>2)))"
   ]
  },
  {
   "cell_type": "code",
   "execution_count": 61,
   "id": "3b2e53af",
   "metadata": {
    "scrolled": true
   },
   "outputs": [
    {
     "data": {
      "text/plain": [
       "array([[[1, 2, 3, 3],\n",
       "        [1, 2, 2, 3]],\n",
       "\n",
       "       [[1, 2, 2, 3],\n",
       "        [1, 2, 3, 3]],\n",
       "\n",
       "       [[1, 2, 3, 4],\n",
       "        [1, 2, 3, 5]]])"
      ]
     },
     "execution_count": 61,
     "metadata": {},
     "output_type": "execute_result"
    }
   ],
   "source": [
    "np.sort(a,kind=\"merge\")"
   ]
  },
  {
   "cell_type": "code",
   "execution_count": 62,
   "id": "a8a42571",
   "metadata": {},
   "outputs": [
    {
     "data": {
      "text/plain": [
       "array([[[1, 2, 3, 3],\n",
       "        [1, 2, 2, 3]],\n",
       "\n",
       "       [[1, 2, 2, 3],\n",
       "        [1, 2, 3, 3]],\n",
       "\n",
       "       [[1, 2, 3, 4],\n",
       "        [1, 2, 3, 5]]])"
      ]
     },
     "execution_count": 62,
     "metadata": {},
     "output_type": "execute_result"
    }
   ],
   "source": [
    "np.sort(a,kind=\"quick\")"
   ]
  }
 ],
 "metadata": {
  "kernelspec": {
   "display_name": "Python 3 (ipykernel)",
   "language": "python",
   "name": "python3"
  },
  "language_info": {
   "codemirror_mode": {
    "name": "ipython",
    "version": 3
   },
   "file_extension": ".py",
   "mimetype": "text/x-python",
   "name": "python",
   "nbconvert_exporter": "python",
   "pygments_lexer": "ipython3",
   "version": "3.9.12"
  }
 },
 "nbformat": 4,
 "nbformat_minor": 5
}
