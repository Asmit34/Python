{
 "cells": [
  {
   "cell_type": "code",
   "execution_count": 2,
   "id": "8ac3c48f",
   "metadata": {},
   "outputs": [],
   "source": [
    "#Arithmetic operator(+,*,/,-,%)\n"
   ]
  },
  {
   "cell_type": "code",
   "execution_count": 5,
   "id": "361d2d3f",
   "metadata": {},
   "outputs": [
    {
     "name": "stdout",
     "output_type": "stream",
     "text": [
      "11\n",
      "2\n",
      "972192\n",
      "70.23076923076923\n",
      "0\n"
     ]
    }
   ],
   "source": [
    "print(5+6)\n",
    "print(6-4)\n",
    "print(984*988)\n",
    "print(4565/65)\n",
    "print(50%2)"
   ]
  },
  {
   "cell_type": "code",
   "execution_count": null,
   "id": "e9c7a421",
   "metadata": {},
   "outputs": [],
   "source": [
    "#logical operator"
   ]
  },
  {
   "cell_type": "code",
   "execution_count": 15,
   "id": "8fc4eb3d",
   "metadata": {},
   "outputs": [
    {
     "name": "stdout",
     "output_type": "stream",
     "text": [
      "True\n",
      "<class 'bool'>\n"
     ]
    }
   ],
   "source": [
    "a=2<3 and 4>=4\n",
    "print(a)\n",
    "print(type(a))"
   ]
  },
  {
   "cell_type": "code",
   "execution_count": 16,
   "id": "13e0c6ed",
   "metadata": {},
   "outputs": [
    {
     "name": "stdout",
     "output_type": "stream",
     "text": [
      "True\n"
     ]
    }
   ],
   "source": [
    "b=3>5 or 4<=4\n",
    "print(b)"
   ]
  },
  {
   "cell_type": "code",
   "execution_count": null,
   "id": "46cbdb45",
   "metadata": {},
   "outputs": [],
   "source": [
    "#identity operator"
   ]
  },
  {
   "cell_type": "code",
   "execution_count": 40,
   "id": "3833a322",
   "metadata": {},
   "outputs": [],
   "source": [
    "a=23\n",
    "b=23\n",
    "c=a\n"
   ]
  },
  {
   "cell_type": "code",
   "execution_count": 41,
   "id": "a0519714",
   "metadata": {},
   "outputs": [
    {
     "name": "stdout",
     "output_type": "stream",
     "text": [
      "True\n",
      "True\n"
     ]
    }
   ],
   "source": [
    "print(a is b)\n",
    "print(a is c)"
   ]
  },
  {
   "cell_type": "code",
   "execution_count": null,
   "id": "74690449",
   "metadata": {},
   "outputs": [],
   "source": [
    "#to see address"
   ]
  },
  {
   "cell_type": "code",
   "execution_count": 42,
   "id": "a22e08e5",
   "metadata": {},
   "outputs": [
    {
     "name": "stdout",
     "output_type": "stream",
     "text": [
      "2397080218608\n",
      "2397080218608\n",
      "2397080218608\n"
     ]
    }
   ],
   "source": [
    "print(id(a))\n",
    "print(id(b))\n",
    "print(id(c))"
   ]
  },
  {
   "cell_type": "code",
   "execution_count": null,
   "id": "9137561f",
   "metadata": {},
   "outputs": [],
   "source": [
    "#bitwise operator"
   ]
  },
  {
   "cell_type": "code",
   "execution_count": 45,
   "id": "067306b2",
   "metadata": {},
   "outputs": [
    {
     "name": "stdout",
     "output_type": "stream",
     "text": [
      "0\n",
      "1\n",
      "7\n",
      "1\n",
      "0\n"
     ]
    }
   ],
   "source": [
    "print(2 & 4)\n",
    "print(5 & 3)\n",
    "print(5|2)           #OR\n",
    "print(3^2)           #XOR  (same 1 different 0)\n",
    "print(3^3)"
   ]
  },
  {
   "cell_type": "code",
   "execution_count": 46,
   "id": "2604936d",
   "metadata": {},
   "outputs": [
    {
     "name": "stdout",
     "output_type": "stream",
     "text": [
      "[1 2 3 4 5]\n",
      "1.21.5\n"
     ]
    }
   ],
   "source": [
    "import numpy as np\n",
    "arr = np.array([1,2,3,4,5])\n",
    "print(arr)\n",
    "\n",
    "print(np.__version__)"
   ]
  },
  {
   "cell_type": "code",
   "execution_count": 47,
   "id": "fdae67ab",
   "metadata": {},
   "outputs": [
    {
     "name": "stdout",
     "output_type": "stream",
     "text": [
      "1\n",
      "59\n",
      "60\n",
      "loose\n",
      "['loose', 'win']\n"
     ]
    }
   ],
   "source": [
    "import random as r\n",
    "a=r.randrange(1,10)\n",
    "print(a)\n",
    "b=r.randrange(100)\n",
    "print(b)\n",
    "c=r.randrange(0,100,3)\n",
    "print(c)\n",
    "\n",
    "options=[\"win\",\"loose\",\"draw\"]\n",
    "d=r.choice(options)\n",
    "print(d)\n",
    "e=r.sample(options,k=2)\n",
    "print(e)\n"
   ]
  },
  {
   "cell_type": "code",
   "execution_count": 48,
   "id": "6236101b",
   "metadata": {},
   "outputs": [],
   "source": [
    "import random as r"
   ]
  },
  {
   "cell_type": "code",
   "execution_count": 49,
   "id": "bd4dacbe",
   "metadata": {},
   "outputs": [
    {
     "name": "stdout",
     "output_type": "stream",
     "text": [
      "win\n"
     ]
    }
   ],
   "source": [
    "options=[\"win\",\"loose\",\"draw\"]\n",
    "d=r.choice(options)\n",
    "print(d)"
   ]
  },
  {
   "cell_type": "code",
   "execution_count": 50,
   "id": "993e3334",
   "metadata": {},
   "outputs": [],
   "source": [
    "import random as r"
   ]
  },
  {
   "cell_type": "code",
   "execution_count": 58,
   "id": "c2369faa",
   "metadata": {},
   "outputs": [
    {
     "name": "stdout",
     "output_type": "stream",
     "text": [
      "loose\n",
      "['gyg', 'jhbjhb', 'loose']\n"
     ]
    }
   ],
   "source": [
    "options=[\"win\",\"loose\",\"draw\",\"gyg\",\"jhbjhb\"]\n",
    "d=r.choice(options)\n",
    "print(d)\n",
    "e=r.sample(options,k=3)\n",
    "print(e)\n"
   ]
  }
 ],
 "metadata": {
  "kernelspec": {
   "display_name": "Python 3 (ipykernel)",
   "language": "python",
   "name": "python3"
  },
  "language_info": {
   "codemirror_mode": {
    "name": "ipython",
    "version": 3
   },
   "file_extension": ".py",
   "mimetype": "text/x-python",
   "name": "python",
   "nbconvert_exporter": "python",
   "pygments_lexer": "ipython3",
   "version": "3.9.12"
  }
 },
 "nbformat": 4,
 "nbformat_minor": 5
}
