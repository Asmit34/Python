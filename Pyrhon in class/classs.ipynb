{
 "cells": [
  {
   "cell_type": "code",
   "execution_count": 1,
   "id": "90b4c7d0",
   "metadata": {},
   "outputs": [],
   "source": [
    "class Parrot:\n",
    "    def __init__(self,color,age):\n",
    "        self.color=color\n",
    "        self.age=age\n",
    "        \n",
    "    def info(self):\n",
    "        print(f\"Parrot color is {self.color} and age is {self.age}\")\n",
    "   # color=\"blue\"\n",
    "   # age=2"
   ]
  },
  {
   "cell_type": "code",
   "execution_count": null,
   "id": "b6695d6a",
   "metadata": {},
   "outputs": [],
   "source": []
  },
  {
   "cell_type": "code",
   "execution_count": null,
   "id": "19c02bc3",
   "metadata": {},
   "outputs": [],
   "source": []
  },
  {
   "cell_type": "code",
   "execution_count": 2,
   "id": "059f375e",
   "metadata": {},
   "outputs": [
    {
     "name": "stdout",
     "output_type": "stream",
     "text": [
      "Parrot color is blue and age is 3\n"
     ]
    }
   ],
   "source": [
    "blu = Parrot(\"blue\",3)\n",
    "blu.info()"
   ]
  },
  {
   "cell_type": "code",
   "execution_count": null,
   "id": "ad183251",
   "metadata": {},
   "outputs": [],
   "source": []
  },
  {
   "cell_type": "code",
   "execution_count": null,
   "id": "090fa0df",
   "metadata": {},
   "outputs": [],
   "source": []
  },
  {
   "cell_type": "code",
   "execution_count": 4,
   "id": "2970c43f",
   "metadata": {},
   "outputs": [
    {
     "data": {
      "text/plain": [
       "'blue'"
      ]
     },
     "execution_count": 4,
     "metadata": {},
     "output_type": "execute_result"
    }
   ],
   "source": [
    "blu.color\n"
   ]
  },
  {
   "cell_type": "code",
   "execution_count": 6,
   "id": "8ad59b0c",
   "metadata": {},
   "outputs": [],
   "source": [
    "blu.color=\"brown\""
   ]
  },
  {
   "cell_type": "code",
   "execution_count": 7,
   "id": "c9183733",
   "metadata": {},
   "outputs": [
    {
     "data": {
      "text/plain": [
       "'brown'"
      ]
     },
     "execution_count": 7,
     "metadata": {},
     "output_type": "execute_result"
    }
   ],
   "source": [
    "blu.color"
   ]
  },
  {
   "cell_type": "raw",
   "id": "a8e28747",
   "metadata": {},
   "source": []
  },
  {
   "cell_type": "code",
   "execution_count": 8,
   "id": "88d07214",
   "metadata": {},
   "outputs": [],
   "source": [
    "class Bird:\n",
    "    def __init__(self):\n",
    "        print(\"class is Bird\")\n",
    "        \n",
    "    def fly(self):\n",
    "        print(\"Bird can swim\")\n",
    "        \n",
    "class Parrot(Bird):\n",
    "    def __init__(self):\n",
    "        print(\"parrot is the class\")\n",
    "        super().__init__()\n",
    "#class Penguin(Bird):\n",
    " #   pass"
   ]
  },
  {
   "cell_type": "code",
   "execution_count": 9,
   "id": "748895ca",
   "metadata": {},
   "outputs": [
    {
     "name": "stdout",
     "output_type": "stream",
     "text": [
      "parrot is the class\n",
      "class is Bird\n"
     ]
    }
   ],
   "source": [
    "woo=Parrot()\n"
   ]
  },
  {
   "cell_type": "code",
   "execution_count": null,
   "id": "a431fce2",
   "metadata": {},
   "outputs": [],
   "source": [
    "class Computer:\n",
    "    def __init__(self):\n",
    "        self.__maxprice=20000\n",
    "    def info(self):\n",
    "        print(f\"Maxprice:{self.__maxprice}\")\n",
    "    def setMaxPrice(self,price):\n",
    "        self.__maxprice=price"
   ]
  },
  {
   "cell_type": "code",
   "execution_count": null,
   "id": "4c437a20",
   "metadata": {},
   "outputs": [],
   "source": []
  },
  {
   "cell_type": "code",
   "execution_count": null,
   "id": "1a45d2cb",
   "metadata": {},
   "outputs": [],
   "source": [
    "legion=Computer()\n",
    "legion.info()\n",
    "legion.setMaxPrice(30000)\n",
    "legion.info()"
   ]
  },
  {
   "cell_type": "code",
   "execution_count": null,
   "id": "2489fd15",
   "metadata": {},
   "outputs": [],
   "source": [
    "class penguin:\n",
    "    def fly(self):\n",
    "        print(\"Penguin cannot fly\")\n",
    "\n",
    "class Parrot:\n",
    "    def fly(self):\n",
    "        print(\"Parrot can fly\")\n",
    "def flying(obj) : \n",
    "    obj.fly()"
   ]
  },
  {
   "cell_type": "code",
   "execution_count": null,
   "id": "479bbb07",
   "metadata": {},
   "outputs": [],
   "source": []
  },
  {
   "cell_type": "code",
   "execution_count": null,
   "id": "3fb6f51e",
   "metadata": {},
   "outputs": [],
   "source": []
  },
  {
   "cell_type": "code",
   "execution_count": null,
   "id": "9f13227e",
   "metadata": {},
   "outputs": [],
   "source": [
    "pen=Penguin()\n",
    "flying(pen)\n",
    "par=Parrot()\n",
    "flying(par)\n"
   ]
  },
  {
   "cell_type": "code",
   "execution_count": null,
   "id": "59b1d6bd",
   "metadata": {},
   "outputs": [],
   "source": []
  }
 ],
 "metadata": {
  "kernelspec": {
   "display_name": "Python 3 (ipykernel)",
   "language": "python",
   "name": "python3"
  },
  "language_info": {
   "codemirror_mode": {
    "name": "ipython",
    "version": 3
   },
   "file_extension": ".py",
   "mimetype": "text/x-python",
   "name": "python",
   "nbconvert_exporter": "python",
   "pygments_lexer": "ipython3",
   "version": "3.11.4"
  }
 },
 "nbformat": 4,
 "nbformat_minor": 5
}
