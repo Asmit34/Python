{
 "cells": [
  {
   "cell_type": "code",
   "execution_count": 1,
   "id": "3eb435c0",
   "metadata": {},
   "outputs": [
    {
     "name": "stdout",
     "output_type": "stream",
     "text": [
      "Enter the amount:1000\n",
      "50.0\n"
     ]
    }
   ],
   "source": [
    "amount= int(input(\"Enter the amount:\"))\n",
    "if(amount >= 1000):\n",
    "    discount=amount*0.05\n",
    "print(discount)\n"
   ]
  },
  {
   "cell_type": "code",
   "execution_count": null,
   "id": "879fe35e",
   "metadata": {},
   "outputs": [],
   "source": [
    "result=[]\n",
    "while True:\n",
    "    inp=int(input())\n",
    "    result.append(inp)\n",
    "    if len(inp==10):\n",
    "        break\n",
    "print(result)\n",
    "total=0\n",
    "for i in result:\n",
    "    total=total+i\n",
    "print(\"sum is :\",total)\n",
    "print(\"average\",total/result)\n",
    "      "
   ]
  },
  {
   "cell_type": "code",
   "execution_count": null,
   "id": "7eaf5254",
   "metadata": {},
   "outputs": [],
   "source": []
  }
 ],
 "metadata": {
  "kernelspec": {
   "display_name": "Python 3 (ipykernel)",
   "language": "python",
   "name": "python3"
  },
  "language_info": {
   "codemirror_mode": {
    "name": "ipython",
    "version": 3
   },
   "file_extension": ".py",
   "mimetype": "text/x-python",
   "name": "python",
   "nbconvert_exporter": "python",
   "pygments_lexer": "ipython3",
   "version": "3.9.12"
  }
 },
 "nbformat": 4,
 "nbformat_minor": 5
}
