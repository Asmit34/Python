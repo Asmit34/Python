{
 "cells": [
  {
   "cell_type": "code",
   "execution_count": 1,
   "metadata": {
    "colab": {
     "base_uri": "https://localhost:8080/"
    },
    "id": "eS-ToCxcNUMl",
    "outputId": "acfd175a-8035-43a5-9654-946d85c22ed1"
   },
   "outputs": [],
   "source": [
    "#from google.colab import drive\n",
    "#drive.mount('/content/drive')"
   ]
  },
  {
   "cell_type": "code",
   "execution_count": 2,
   "metadata": {
    "id": "oncqTY05Qv8g"
   },
   "outputs": [
    {
     "ename": "ModuleNotFoundError",
     "evalue": "No module named 'google.colab'",
     "output_type": "error",
     "traceback": [
      "\u001b[1;31m---------------------------------------------------------------------------\u001b[0m",
      "\u001b[1;31mModuleNotFoundError\u001b[0m                       Traceback (most recent call last)",
      "Input \u001b[1;32mIn [2]\u001b[0m, in \u001b[0;36m<cell line: 2>\u001b[1;34m()\u001b[0m\n\u001b[0;32m      1\u001b[0m \u001b[38;5;28;01mimport\u001b[39;00m \u001b[38;5;21;01mpandas\u001b[39;00m \u001b[38;5;28;01mas\u001b[39;00m \u001b[38;5;21;01mpd\u001b[39;00m\n\u001b[1;32m----> 2\u001b[0m \u001b[38;5;28;01mfrom\u001b[39;00m \u001b[38;5;21;01mgoogle\u001b[39;00m\u001b[38;5;21;01m.\u001b[39;00m\u001b[38;5;21;01mcolab\u001b[39;00m \u001b[38;5;28;01mimport\u001b[39;00m drive\n\u001b[0;32m      3\u001b[0m \u001b[38;5;28;01mimport\u001b[39;00m \u001b[38;5;21;01mmatplotlib\u001b[39;00m\u001b[38;5;21;01m.\u001b[39;00m\u001b[38;5;21;01mpyplot\u001b[39;00m \u001b[38;5;28;01mas\u001b[39;00m \u001b[38;5;21;01mplt\u001b[39;00m\n\u001b[0;32m      4\u001b[0m \u001b[38;5;28;01mimport\u001b[39;00m \u001b[38;5;21;01mnumpy\u001b[39;00m \u001b[38;5;28;01mas\u001b[39;00m \u001b[38;5;21;01mnp\u001b[39;00m\n",
      "\u001b[1;31mModuleNotFoundError\u001b[0m: No module named 'google.colab'"
     ]
    }
   ],
   "source": [
    "import pandas as pd\n",
    "from google.colab import drive\n",
    "import matplotlib.pyplot as plt\n",
    "import numpy as np\n",
    "import seaborn as sns\n",
    "\n",
    "path1=\"/content/drive/MyDrive/PS4_GamesSales.csv\"\n",
    "path2=\"/content/drive/MyDrive/Video_Games_Sales_as_at_22_Dec_2016.csv\"\n",
    "\n",
    "\n",
    "data=pd.read_csv(path1, encoding = 'unicode_escape', engine ='python')\n",
    "data2=pd.read_csv(path2, encoding = 'unicode_escape', engine ='python')"
   ]
  },
  {
   "cell_type": "code",
   "execution_count": null,
   "metadata": {
    "colab": {
     "base_uri": "https://localhost:8080/",
     "height": 206
    },
    "id": "c53hSdhGcp6P",
    "outputId": "43cfdb56-2286-471f-f082-da8baf6a2429"
   },
   "outputs": [],
   "source": [
    "data.head()"
   ]
  },
  {
   "cell_type": "code",
   "execution_count": null,
   "metadata": {
    "id": "mhFL9z_WwN9m"
   },
   "outputs": [],
   "source": [
    "deleting_index=list(data[data[\"Year\"]==2020].index)\n",
    "deleting_index+=list(data[data[\"Year\"]==2019].index)"
   ]
  },
  {
   "cell_type": "code",
   "execution_count": null,
   "metadata": {
    "id": "c5cSikWy2OtD"
   },
   "outputs": [],
   "source": [
    "data.drop(deleting_index,axis=0,inplace=True)"
   ]
  },
  {
   "cell_type": "code",
   "execution_count": null,
   "metadata": {
    "colab": {
     "base_uri": "https://localhost:8080/",
     "height": 300
    },
    "id": "jJ9vXUO4qVqJ",
    "outputId": "a1aaa22c-de2b-49cf-8fa0-eee00a9910d0"
   },
   "outputs": [],
   "source": [
    "data.describe()"
   ]
  },
  {
   "cell_type": "code",
   "execution_count": null,
   "metadata": {
    "colab": {
     "base_uri": "https://localhost:8080/",
     "height": 390
    },
    "id": "8yyVzJqwmLY1",
    "outputId": "35d582da-6648-4258-b9f8-462454503e2c"
   },
   "outputs": [],
   "source": [
    "genres=data[\"Genre\"].unique()\n",
    "\n",
    "sales_by_genre=np.array([data[data['Genre']==genre][\"Global\"].sum() for genre in genres])\n",
    "sorted_index=sales_by_genre.argsort()\n",
    "\n",
    "\n",
    "plt.figure(figsize=(12,6))\n",
    "plt.barh(genres[sorted_index],sales_by_genre[sorted_index])\n",
    "plt.title(\"Sales by Genre\")\n",
    "plt.show()"
   ]
  },
  {
   "cell_type": "code",
   "execution_count": null,
   "metadata": {
    "colab": {
     "base_uri": "https://localhost:8080/",
     "height": 390
    },
    "id": "TrfuzpdNqsWL",
    "outputId": "f90b4836-c8cb-4702-a473-a265c8227459"
   },
   "outputs": [],
   "source": [
    "top_10=data[:10][\"Game\"]\n",
    "sales_by_top10=data[:10][\"Global\"]\n",
    "\n",
    "plt.figure(figsize=(12,6))\n",
    "plt.barh(top_10,sales_by_top10)\n",
    "plt.gca().invert_yaxis()\n",
    "plt.title(\"Sales by Top 10 performing games\")\n",
    "plt.show()"
   ]
  },
  {
   "cell_type": "code",
   "execution_count": null,
   "metadata": {
    "colab": {
     "base_uri": "https://localhost:8080/",
     "height": 390
    },
    "id": "2AyrC_6TtHYD",
    "outputId": "3ee96fdc-df87-46e9-cc1f-6c466d25b74b"
   },
   "outputs": [],
   "source": [
    "years=data[\"Year\"].dropna().unique()\n",
    "sales_by_year=np.array([data[data['Year']==year][\"Global\"].sum() for year in years])\n",
    "sorted_index=sales_by_year.argsort()\n",
    "years= years[sorted_index]\n",
    "sales_by_year=sales_by_year[sorted_index]\n",
    "\n",
    "plt.figure(figsize=(12,6))\n",
    "plt.barh(years,sales_by_year)\n",
    "plt.title(\"Sales by Year\")\n",
    "plt.show()"
   ]
  },
  {
   "cell_type": "code",
   "execution_count": null,
   "metadata": {
    "colab": {
     "base_uri": "https://localhost:8080/",
     "height": 340
    },
    "id": "vrXcXxjdt1jx",
    "outputId": "a935a2cf-692c-4dba-c31d-9d20edbed926"
   },
   "outputs": [],
   "source": [
    "data2.head()"
   ]
  },
  {
   "cell_type": "code",
   "execution_count": null,
   "metadata": {
    "colab": {
     "base_uri": "https://localhost:8080/",
     "height": 460
    },
    "id": "RocjChCz3gD-",
    "outputId": "aaca6cab-99d4-4bcf-f4c7-2042c27179c7"
   },
   "outputs": [],
   "source": [
    "corr_mat = data2.corr()\n",
    "plt.figure(figsize=(12,6))\n",
    "plt.title(\"Heatmap of the Video Game Dataset\")\n",
    "sns.heatmap(corr_mat, vmax=.8, square=True)\n",
    "plt.show()"
   ]
  },
  {
   "cell_type": "code",
   "execution_count": null,
   "metadata": {
    "colab": {
     "base_uri": "https://localhost:8080/",
     "height": 607
    },
    "id": "51dJAJ3g3e8N",
    "outputId": "374abb97-74d5-4182-dbac-152ca358aa4b"
   },
   "outputs": [],
   "source": [
    "platforms=data2[\"Platform\"].dropna().unique()\n",
    "sales_by_platform=np.array([data2[data2['Platform']==platform][\"Global_Sales\"].sum() for platform in platforms])\n",
    "sorted_index=sales_by_platform.argsort()\n",
    "platforms= platforms[sorted_index]\n",
    "sales_by_platform=sales_by_platform[sorted_index]\n",
    "\n",
    "plt.figure(figsize=(14,10))\n",
    "plt.barh(platforms,sales_by_platform)\n",
    "plt.title(\"Sales by Platform\")\n",
    "plt.show()"
   ]
  },
  {
   "cell_type": "code",
   "execution_count": null,
   "metadata": {
    "colab": {
     "base_uri": "https://localhost:8080/",
     "height": 405
    },
    "id": "w7fzBXrF_QhW",
    "outputId": "ef7b6730-6300-49d4-c438-c3c35d2f3696"
   },
   "outputs": [],
   "source": [
    "# Plotting the global sales of video games\n",
    "\n",
    "plt.figure(figsize=(18,6))\n",
    "plt.title(\"Histogram of Video Games with Global Sales\")\n",
    "sns.histplot(data=data2['Global_Sales'], binwidth=0.05)\n",
    "plt.ylabel(\"\")\n",
    "plt.show()"
   ]
  },
  {
   "cell_type": "code",
   "execution_count": null,
   "metadata": {
    "colab": {
     "base_uri": "https://localhost:8080/"
    },
    "id": "uw5CxAU8_Y7c",
    "outputId": "c4510d0a-96bb-4fc5-ff0a-1eb420186869"
   },
   "outputs": [],
   "source": [
    "data2[data2[\"Global_Sales\"]>10].count().Name"
   ]
  },
  {
   "cell_type": "code",
   "execution_count": null,
   "metadata": {
    "colab": {
     "base_uri": "https://localhost:8080/"
    },
    "id": "Q0VNiGaB_utF",
    "outputId": "e150e540-f75c-4e13-d586-8c789793080d"
   },
   "outputs": [],
   "source": [
    "data2.shape[0]"
   ]
  },
  {
   "cell_type": "code",
   "execution_count": null,
   "metadata": {
    "colab": {
     "base_uri": "https://localhost:8080/",
     "height": 405
    },
    "id": "awA3yLbA-4x4",
    "outputId": "5e724cc8-8340-4745-b7c5-ad7b9083aee0"
   },
   "outputs": [],
   "source": [
    "# Plotting the global sales of video games with less than 10 million global sales in USD\n",
    "\n",
    "plt.figure(figsize=(18,6))\n",
    "plt.title(\"Histogram of Video Games with Global Sales with less than 10 million in USD\")\n",
    "sns.histplot(data=data2['Global_Sales'], binwidth=0.05, binrange=[0,10])\n",
    "plt.ylabel(\"\")\n",
    "plt.show()"
   ]
  }
 ],
 "metadata": {
  "colab": {
   "provenance": []
  },
  "kernelspec": {
   "display_name": "Python 3 (ipykernel)",
   "language": "python",
   "name": "python3"
  },
  "language_info": {
   "codemirror_mode": {
    "name": "ipython",
    "version": 3
   },
   "file_extension": ".py",
   "mimetype": "text/x-python",
   "name": "python",
   "nbconvert_exporter": "python",
   "pygments_lexer": "ipython3",
   "version": "3.9.12"
  }
 },
 "nbformat": 4,
 "nbformat_minor": 1
}
