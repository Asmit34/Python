{
 "cells": [
  {
   "cell_type": "code",
   "execution_count": 26,
   "id": "5251aadd",
   "metadata": {},
   "outputs": [],
   "source": [
    "class Parrot:\n",
    "    def __init__(self,color,age):\n",
    "        self.color=color\n",
    "        self.age=age\n",
    "        \n",
    "    def info(self):\n",
    "        print(f\"Parrot color is {self.color} and age is {self.age}\")\n",
    "   # color=\"blue\"\n",
    "   # age=2"
   ]
  },
  {
   "cell_type": "code",
   "execution_count": null,
   "id": "b4aaf39e",
   "metadata": {},
   "outputs": [],
   "source": []
  },
  {
   "cell_type": "code",
   "execution_count": null,
   "id": "2bec42b9",
   "metadata": {},
   "outputs": [],
   "source": []
  },
  {
   "cell_type": "code",
   "execution_count": 27,
   "id": "e951e523",
   "metadata": {},
   "outputs": [
    {
     "name": "stdout",
     "output_type": "stream",
     "text": [
      "Parrot color is blue and age is 3\n"
     ]
    }
   ],
   "source": [
    "blu = Parrot(\"blue\",3)\n",
    "blu.info()"
   ]
  },
  {
   "cell_type": "code",
   "execution_count": null,
   "id": "4b7d83b5",
   "metadata": {},
   "outputs": [],
   "source": []
  },
  {
   "cell_type": "code",
   "execution_count": null,
   "id": "6742f283",
   "metadata": {},
   "outputs": [],
   "source": [
    "blu=Parrot()"
   ]
  },
  {
   "cell_type": "code",
   "execution_count": null,
   "id": "00149191",
   "metadata": {},
   "outputs": [],
   "source": [
    "blu.color\n"
   ]
  },
  {
   "cell_type": "code",
   "execution_count": null,
   "id": "052688c4",
   "metadata": {},
   "outputs": [],
   "source": [
    "blu.color=\"brown\""
   ]
  },
  {
   "cell_type": "code",
   "execution_count": null,
   "id": "53f9d63c",
   "metadata": {},
   "outputs": [],
   "source": [
    "blu.color"
   ]
  },
  {
   "cell_type": "raw",
   "id": "561aecf6",
   "metadata": {},
   "source": []
  },
  {
   "cell_type": "code",
   "execution_count": 24,
   "id": "9eb77b59",
   "metadata": {},
   "outputs": [],
   "source": [
    "class Bird:\n",
    "    def __init__(self):\n",
    "        print(\"class is Bird\")\n",
    "        \n",
    "    def fly(self):\n",
    "        print(\"Bird can swim\")\n",
    "        \n",
    "class Parrot(Bird):\n",
    "    def __init__(self):\n",
    "        print(\"parrot is the class\")\n",
    "        super().__init__()\n",
    "#class Penguin(Bird):\n",
    " #   pass"
   ]
  },
  {
   "cell_type": "code",
   "execution_count": 25,
   "id": "075466dc",
   "metadata": {},
   "outputs": [
    {
     "name": "stdout",
     "output_type": "stream",
     "text": [
      "parrot is the class\n",
      "class is Bird\n"
     ]
    }
   ],
   "source": [
    "woo=Parrot()\n"
   ]
  },
  {
   "cell_type": "code",
   "execution_count": 44,
   "id": "e2b2975d",
   "metadata": {},
   "outputs": [],
   "source": [
    "class Computer:\n",
    "    def __init__(self):\n",
    "        self.__maxprice=20000\n",
    "    def info(self):\n",
    "        print(f\"Maxprice:{self.__maxprice}\")\n",
    "    def setMaxPrice(self,price):\n",
    "        self.__maxprice=price"
   ]
  },
  {
   "cell_type": "code",
   "execution_count": null,
   "id": "61bc6b68",
   "metadata": {},
   "outputs": [],
   "source": []
  },
  {
   "cell_type": "code",
   "execution_count": 45,
   "id": "0e714b83",
   "metadata": {},
   "outputs": [
    {
     "name": "stdout",
     "output_type": "stream",
     "text": [
      "Maxprice:20000\n",
      "Maxprice:30000\n"
     ]
    }
   ],
   "source": [
    "legion=Computer()\n",
    "legion.info()\n",
    "legion.setMaxPrice(30000)\n",
    "legion.info()"
   ]
  },
  {
   "cell_type": "code",
   "execution_count": null,
   "id": "eb84753c",
   "metadata": {},
   "outputs": [],
   "source": []
  },
  {
   "cell_type": "code",
   "execution_count": null,
   "id": "013bb4a9",
   "metadata": {},
   "outputs": [],
   "source": [
    "\n"
   ]
  },
  {
   "cell_type": "code",
   "execution_count": null,
   "id": "199876cd",
   "metadata": {},
   "outputs": [],
   "source": []
  },
  {
   "cell_type": "code",
   "execution_count": null,
   "id": "812df8a8",
   "metadata": {},
   "outputs": [],
   "source": []
  },
  {
   "cell_type": "code",
   "execution_count": null,
   "id": "d1115c8b",
   "metadata": {},
   "outputs": [],
   "source": []
  }
 ],
 "metadata": {
  "kernelspec": {
   "display_name": "Python 3 (ipykernel)",
   "language": "python",
   "name": "python3"
  },
  "language_info": {
   "codemirror_mode": {
    "name": "ipython",
    "version": 3
   },
   "file_extension": ".py",
   "mimetype": "text/x-python",
   "name": "python",
   "nbconvert_exporter": "python",
   "pygments_lexer": "ipython3",
   "version": "3.9.12"
  }
 },
 "nbformat": 4,
 "nbformat_minor": 5
}
