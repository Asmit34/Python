{
 "cells": [
  {
   "cell_type": "code",
   "execution_count": 23,
   "id": "f3b84f03",
   "metadata": {},
   "outputs": [
    {
     "name": "stdout",
     "output_type": "stream",
     "text": [
      "Enter any intege:12\n",
      "22\n"
     ]
    }
   ],
   "source": [
    "var=int(input(\"Enter any intege:\"))\n",
    "print(var+10)\n",
    "    "
   ]
  },
  {
   "cell_type": "code",
   "execution_count": null,
   "id": "71047cf3",
   "metadata": {
    "scrolled": true
   },
   "outputs": [],
   "source": [
    "str1=input(\"What is your name:\")\n",
    "str2=input(\"ASmit oli:\")\n",
    "result=str1 +\" \"+str2\n",
    "print(result)"
   ]
  },
  {
   "cell_type": "code",
   "execution_count": null,
   "id": "bef3d661",
   "metadata": {},
   "outputs": [],
   "source": [
    "i=0\n",
    "while(i<10):\n",
    "    num=int(input(f\"ENter a{i} number\"))\n",
    "    i=i+1\n",
    "    num=num+i\n",
    "print(num)"
   ]
  },
  {
   "cell_type": "code",
   "execution_count": null,
   "id": "2e935117",
   "metadata": {},
   "outputs": [],
   "source": [
    "result=[]\n",
    "while True:\n",
    "    inp=int(input())\n",
    "    result.append(inp)\n",
    "    if len(inp==10):\n",
    "        break\n",
    "print(result)\n",
    "total=0\n",
    "for i in result:\n",
    "    total=total+i\n",
    "print(\"sum is :\",total)\n",
    "print(\"average\",total/result)\n",
    "      "
   ]
  }
 ],
 "metadata": {
  "kernelspec": {
   "display_name": "Python 3 (ipykernel)",
   "language": "python",
   "name": "python3"
  },
  "language_info": {
   "codemirror_mode": {
    "name": "ipython",
    "version": 3
   },
   "file_extension": ".py",
   "mimetype": "text/x-python",
   "name": "python",
   "nbconvert_exporter": "python",
   "pygments_lexer": "ipython3",
   "version": "3.9.12"
  }
 },
 "nbformat": 4,
 "nbformat_minor": 5
}
