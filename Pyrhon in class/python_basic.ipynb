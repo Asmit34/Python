{
 "cells": [
  {
   "cell_type": "code",
   "execution_count": null,
   "id": "5237e0c9",
   "metadata": {},
   "outputs": [],
   "source": [
    "amount= int(input(\"Enter the amount:\"))\n",
    "if(amount >= 1000):\n",
    "    discount=amount*0.05\n",
    "print(discount)"
   ]
  },
  {
   "cell_type": "code",
   "execution_count": null,
   "id": "520d41cd",
   "metadata": {},
   "outputs": [],
   "source": [
    "result=[]\n",
    "while True:\n",
    "    inp=int(input())\n",
    "    result.append(inp)\n",
    "    if len(inp==10):\n",
    "        break\n",
    "print(result)\n",
    "total=0\n",
    "for i in result:\n",
    "    total=total+i\n",
    "print(\"sum is :\",total)\n",
    "print(\"average\",total/result)\n",
    "      "
   ]
  },
  {
   "cell_type": "code",
   "execution_count": 1,
   "id": "aa23d1d0",
   "metadata": {},
   "outputs": [
    {
     "name": "stdout",
     "output_type": "stream",
     "text": [
      "ENter a0 number11\n",
      "ENter a1 number1\n",
      "ENter a2 number1\n",
      "ENter a3 number1\n",
      "ENter a4 number1\n",
      "ENter a5 number1\n",
      "ENter a6 number1\n",
      "ENter a7 number1\n",
      "ENter a8 number1\n",
      "ENter a9 number1\n",
      "20\n"
     ]
    }
   ],
   "source": [
    "i=0\n",
    "var1=0\n",
    "while(i<10):\n",
    "    num=int(input(f\"ENter a{i} number\"))\n",
    "    i=i+1\n",
    "    var1=var1+num\n",
    "print(var1)"
   ]
  },
  {
   "cell_type": "code",
   "execution_count": 2,
   "id": "fdd96e06",
   "metadata": {},
   "outputs": [
    {
     "data": {
      "text/plain": [
       "['i', 'love', 'nepal']"
      ]
     },
     "execution_count": 2,
     "metadata": {},
     "output_type": "execute_result"
    }
   ],
   "source": [
    "a=\"I love nepal\"\n",
    "[i.casefold() for i in a.split()]\n"
   ]
  },
  {
   "cell_type": "code",
   "execution_count": 3,
   "id": "55e90579",
   "metadata": {},
   "outputs": [],
   "source": [
    "import sys"
   ]
  },
  {
   "cell_type": "code",
   "execution_count": 4,
   "id": "8d4247cc",
   "metadata": {},
   "outputs": [],
   "source": [
    "b=\"I love nepal\"\n"
   ]
  },
  {
   "cell_type": "code",
   "execution_count": 5,
   "id": "82b37b44",
   "metadata": {},
   "outputs": [],
   "source": [
    "gc=(i.casefold() for i in a.split())"
   ]
  },
  {
   "cell_type": "code",
   "execution_count": 6,
   "id": "ef7e710c",
   "metadata": {},
   "outputs": [
    {
     "name": "stdout",
     "output_type": "stream",
     "text": [
      "208\n"
     ]
    }
   ],
   "source": [
    "print(sys.getsizeof(gc))"
   ]
  },
  {
   "cell_type": "code",
   "execution_count": 9,
   "id": "66a68dd0",
   "metadata": {},
   "outputs": [
    {
     "name": "stdout",
     "output_type": "stream",
     "text": [
      "Enter the amount:13000\n",
      "650.0\n"
     ]
    }
   ],
   "source": [
    "amount= int(input(\"Enter the amount:\"))\n",
    "if(amount >= 1000):\n",
    "    discount=amount*0.05\n",
    "print(discount)\n"
   ]
  },
  {
   "cell_type": "code",
   "execution_count": null,
   "id": "52d77b7a",
   "metadata": {},
   "outputs": [],
   "source": []
  },
  {
   "cell_type": "code",
   "execution_count": null,
   "id": "5f8b8a03",
   "metadata": {},
   "outputs": [],
   "source": []
  },
  {
   "cell_type": "code",
   "execution_count": null,
   "id": "bd60950b",
   "metadata": {},
   "outputs": [],
   "source": []
  },
  {
   "cell_type": "code",
   "execution_count": null,
   "id": "2389d694",
   "metadata": {},
   "outputs": [],
   "source": []
  }
 ],
 "metadata": {
  "kernelspec": {
   "display_name": "Python 3 (ipykernel)",
   "language": "python",
   "name": "python3"
  },
  "language_info": {
   "codemirror_mode": {
    "name": "ipython",
    "version": 3
   },
   "file_extension": ".py",
   "mimetype": "text/x-python",
   "name": "python",
   "nbconvert_exporter": "python",
   "pygments_lexer": "ipython3",
   "version": "3.11.4"
  }
 },
 "nbformat": 4,
 "nbformat_minor": 5
}
