{
 "cells": [
  {
   "cell_type": "code",
   "execution_count": null,
   "id": "ab4241a6",
   "metadata": {},
   "outputs": [],
   "source": [
    "#time and space comparision between list,Set and dictionary"
   ]
  },
  {
   "cell_type": "code",
   "execution_count": null,
   "id": "a68d5a68",
   "metadata": {},
   "outputs": [],
   "source": [
    "#list"
   ]
  },
  {
   "cell_type": "code",
   "execution_count": 23,
   "id": "1a0b8dbc",
   "metadata": {},
   "outputs": [],
   "source": [
    "import time #to check time\n",
    "import sys #to check space"
   ]
  },
  {
   "cell_type": "code",
   "execution_count": 24,
   "id": "eaa19a46",
   "metadata": {},
   "outputs": [],
   "source": [
    "start=time.time()"
   ]
  },
  {
   "cell_type": "code",
   "execution_count": 48,
   "id": "f1af7650",
   "metadata": {},
   "outputs": [],
   "source": [
    "list_output=[i**2 for i in range(1000)]"
   ]
  },
  {
   "cell_type": "code",
   "execution_count": 26,
   "id": "2187d814",
   "metadata": {},
   "outputs": [],
   "source": [
    "end=time.time()"
   ]
  },
  {
   "cell_type": "code",
   "execution_count": 27,
   "id": "6df7f8a0",
   "metadata": {},
   "outputs": [
    {
     "name": "stdout",
     "output_type": "stream",
     "text": [
      "-4.141223430633545 second\n"
     ]
    }
   ],
   "source": [
    "print(start-end,\"second\")"
   ]
  },
  {
   "cell_type": "code",
   "execution_count": 49,
   "id": "b44545cd",
   "metadata": {},
   "outputs": [
    {
     "data": {
      "text/plain": [
       "8856"
      ]
     },
     "execution_count": 49,
     "metadata": {},
     "output_type": "execute_result"
    }
   ],
   "source": [
    "sys.getsizeof(list_output)"
   ]
  },
  {
   "cell_type": "code",
   "execution_count": null,
   "id": "e14aebc4",
   "metadata": {},
   "outputs": [],
   "source": [
    "#Set"
   ]
  },
  {
   "cell_type": "code",
   "execution_count": 28,
   "id": "8452e9ec",
   "metadata": {},
   "outputs": [],
   "source": [
    "import time\n",
    "import sys"
   ]
  },
  {
   "cell_type": "code",
   "execution_count": 30,
   "id": "22020212",
   "metadata": {},
   "outputs": [],
   "source": [
    "start=time.time()"
   ]
  },
  {
   "cell_type": "code",
   "execution_count": 29,
   "id": "7c910f3d",
   "metadata": {},
   "outputs": [],
   "source": [
    "set_output={i**2 for i in range(1000)}"
   ]
  },
  {
   "cell_type": "code",
   "execution_count": 31,
   "id": "704e2de6",
   "metadata": {},
   "outputs": [],
   "source": [
    "end=time.time()"
   ]
  },
  {
   "cell_type": "code",
   "execution_count": 32,
   "id": "99fc2a8c",
   "metadata": {},
   "outputs": [
    {
     "name": "stdout",
     "output_type": "stream",
     "text": [
      "-10.983254671096802 second\n"
     ]
    }
   ],
   "source": [
    "print(start-end,\"second\")"
   ]
  },
  {
   "cell_type": "code",
   "execution_count": 50,
   "id": "0b31e76a",
   "metadata": {},
   "outputs": [
    {
     "data": {
      "text/plain": [
       "32984"
      ]
     },
     "execution_count": 50,
     "metadata": {},
     "output_type": "execute_result"
    }
   ],
   "source": [
    "sys.getsizeof(set_output)"
   ]
  },
  {
   "cell_type": "code",
   "execution_count": null,
   "id": "91721cbc",
   "metadata": {},
   "outputs": [],
   "source": [
    "#Dictionary"
   ]
  },
  {
   "cell_type": "code",
   "execution_count": 33,
   "id": "ed0e00b1",
   "metadata": {},
   "outputs": [],
   "source": [
    "import time \n",
    "import sys "
   ]
  },
  {
   "cell_type": "code",
   "execution_count": 35,
   "id": "2de2604e",
   "metadata": {},
   "outputs": [],
   "source": [
    "start=time.time()"
   ]
  },
  {
   "cell_type": "code",
   "execution_count": 38,
   "id": "32514c5c",
   "metadata": {},
   "outputs": [],
   "source": [
    "dict_output={i:i**2 for i in range(1000)}"
   ]
  },
  {
   "cell_type": "code",
   "execution_count": 39,
   "id": "49bdc16c",
   "metadata": {},
   "outputs": [],
   "source": [
    "end=time.time()"
   ]
  },
  {
   "cell_type": "code",
   "execution_count": 40,
   "id": "c2098517",
   "metadata": {},
   "outputs": [
    {
     "name": "stdout",
     "output_type": "stream",
     "text": [
      "-29.813589811325073 second\n"
     ]
    }
   ],
   "source": [
    "print(start-end,\"second\")"
   ]
  },
  {
   "cell_type": "code",
   "execution_count": 51,
   "id": "e06e4a0c",
   "metadata": {},
   "outputs": [
    {
     "data": {
      "text/plain": [
       "36960"
      ]
     },
     "execution_count": 51,
     "metadata": {},
     "output_type": "execute_result"
    }
   ],
   "source": [
    "sys.getsizeof(dict_output)"
   ]
  },
  {
   "cell_type": "code",
   "execution_count": null,
   "id": "dd8e0a4e",
   "metadata": {},
   "outputs": [],
   "source": [
    "#Generator "
   ]
  },
  {
   "cell_type": "code",
   "execution_count": 41,
   "id": "697e23c2",
   "metadata": {},
   "outputs": [],
   "source": [
    "import time \n",
    "import sys "
   ]
  },
  {
   "cell_type": "code",
   "execution_count": 42,
   "id": "e90beb52",
   "metadata": {},
   "outputs": [],
   "source": [
    "start=time.time()"
   ]
  },
  {
   "cell_type": "code",
   "execution_count": 43,
   "id": "095cb92e",
   "metadata": {},
   "outputs": [],
   "source": [
    "generator_output=(i**2 for i in range(1000))"
   ]
  },
  {
   "cell_type": "code",
   "execution_count": 44,
   "id": "4e32ee78",
   "metadata": {},
   "outputs": [],
   "source": [
    "end=time.time()"
   ]
  },
  {
   "cell_type": "code",
   "execution_count": 45,
   "id": "b8b572e6",
   "metadata": {},
   "outputs": [
    {
     "name": "stdout",
     "output_type": "stream",
     "text": [
      "-3.1587772369384766 second\n"
     ]
    }
   ],
   "source": [
    "print(start-end,\"second\")"
   ]
  },
  {
   "cell_type": "code",
   "execution_count": 52,
   "id": "93795377",
   "metadata": {},
   "outputs": [
    {
     "data": {
      "text/plain": [
       "112"
      ]
     },
     "execution_count": 52,
     "metadata": {},
     "output_type": "execute_result"
    }
   ],
   "source": [
    "sys.getsizeof(generator_output)"
   ]
  }
 ],
 "metadata": {
  "kernelspec": {
   "display_name": "Python 3 (ipykernel)",
   "language": "python",
   "name": "python3"
  },
  "language_info": {
   "codemirror_mode": {
    "name": "ipython",
    "version": 3
   },
   "file_extension": ".py",
   "mimetype": "text/x-python",
   "name": "python",
   "nbconvert_exporter": "python",
   "pygments_lexer": "ipython3",
   "version": "3.9.13"
  }
 },
 "nbformat": 4,
 "nbformat_minor": 5
}
