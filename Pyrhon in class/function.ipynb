{
 "cells": [
  {
   "cell_type": "code",
   "execution_count": 6,
   "id": "9a2f5b68",
   "metadata": {},
   "outputs": [],
   "source": [
    "def my_function(country1,country2):\n",
    "    print(f\"I love {country1} and {country2}\")\n",
    "    \n",
    "#logic of function\n"
   ]
  },
  {
   "cell_type": "code",
   "execution_count": 7,
   "id": "bb857f3c",
   "metadata": {},
   "outputs": [
    {
     "name": "stdout",
     "output_type": "stream",
     "text": [
      "I love Noryaj and NEPAL\n"
     ]
    }
   ],
   "source": [
    "my_function(\"Noryaj\",\"NEPAL\")"
   ]
  },
  {
   "cell_type": "code",
   "execution_count": 3,
   "id": "7840cc57",
   "metadata": {},
   "outputs": [],
   "source": [
    "def my_function(*country):\n",
    "    a=list(country)\n",
    "    a.append(\"USA\")\n",
    "    a=tuple(a)\n",
    "    print(a)"
   ]
  },
  {
   "cell_type": "code",
   "execution_count": 4,
   "id": "aeb08b1d",
   "metadata": {},
   "outputs": [
    {
     "name": "stdout",
     "output_type": "stream",
     "text": [
      "('Nepal', 'India', 'USA')\n"
     ]
    }
   ],
   "source": [
    "my_function(\"Nepal\",\"India\")"
   ]
  },
  {
   "cell_type": "code",
   "execution_count": 8,
   "id": "9648a6c5",
   "metadata": {},
   "outputs": [],
   "source": [
    "def my_function(*args):\n",
    "    result=0\n",
    "    for i in args:\n",
    "        result=result+i\n",
    "    print(result)"
   ]
  },
  {
   "cell_type": "code",
   "execution_count": 9,
   "id": "e73e7993",
   "metadata": {},
   "outputs": [
    {
     "name": "stdout",
     "output_type": "stream",
     "text": [
      "21\n"
     ]
    }
   ],
   "source": [
    "my_function(1,2,3,4,5,6)"
   ]
  },
  {
   "cell_type": "code",
   "execution_count": 10,
   "id": "a62fab53",
   "metadata": {},
   "outputs": [],
   "source": [
    "def my_function(*name):\n",
    "    for i in name:\n",
    "        print(i[i.index(\" \")+1:])"
   ]
  },
  {
   "cell_type": "code",
   "execution_count": 11,
   "id": "7ed22430",
   "metadata": {},
   "outputs": [
    {
     "name": "stdout",
     "output_type": "stream",
     "text": [
      "Messi \n",
      "ronaldo\n"
     ]
    }
   ],
   "source": [
    "my_function(\"lionel Messi \",\"christiono ronaldo\")"
   ]
  },
  {
   "cell_type": "code",
   "execution_count": null,
   "id": "254d3f93",
   "metadata": {},
   "outputs": [],
   "source": [
    "#    *kwargs-->as a tuple\n",
    "#    **kwargs-->as a distionary"
   ]
  },
  {
   "cell_type": "code",
   "execution_count": 12,
   "id": "b58a5202",
   "metadata": {},
   "outputs": [],
   "source": [
    "def my_function(*kwargs):\n",
    "    print(kwargs)"
   ]
  },
  {
   "cell_type": "code",
   "execution_count": 13,
   "id": "fa8fa599",
   "metadata": {},
   "outputs": [
    {
     "name": "stdout",
     "output_type": "stream",
     "text": [
      "(4, 5)\n"
     ]
    }
   ],
   "source": [
    "my_function(4,5)"
   ]
  },
  {
   "cell_type": "code",
   "execution_count": 14,
   "id": "c30f6619",
   "metadata": {},
   "outputs": [],
   "source": [
    "def my_function(**kwargs):\n",
    "    print(kwargs)"
   ]
  },
  {
   "cell_type": "code",
   "execution_count": 15,
   "id": "7246d37a",
   "metadata": {},
   "outputs": [
    {
     "name": "stdout",
     "output_type": "stream",
     "text": [
      "{'a': 4, 'b': 3, 'c': 5}\n"
     ]
    }
   ],
   "source": [
    "my_function(a=4,b=3,c=5)"
   ]
  },
  {
   "cell_type": "code",
   "execution_count": null,
   "id": "db058c1b",
   "metadata": {},
   "outputs": [],
   "source": [
    "#default argument"
   ]
  },
  {
   "cell_type": "code",
   "execution_count": null,
   "id": "85d03148",
   "metadata": {},
   "outputs": [],
   "source": [
    "def add(a,*b):\n",
    "    print(a+b)"
   ]
  },
  {
   "cell_type": "code",
   "execution_count": null,
   "id": "664977b1",
   "metadata": {},
   "outputs": [],
   "source": [
    "add(2)"
   ]
  },
  {
   "cell_type": "code",
   "execution_count": 16,
   "id": "4c780b7f",
   "metadata": {},
   "outputs": [
    {
     "name": "stdout",
     "output_type": "stream",
     "text": [
      "('Nepal', 'India', 'USA')\n"
     ]
    }
   ],
   "source": [
    "def my_function(*country):\n",
    "    a=list(country)\n",
    "    a.append(\"USA\")\n",
    "    a=tuple(a)\n",
    "    print(a)\n",
    "my_function(\"Nepal\",\"India\")"
   ]
  }
 ],
 "metadata": {
  "kernelspec": {
   "display_name": "Python 3 (ipykernel)",
   "language": "python",
   "name": "python3"
  },
  "language_info": {
   "codemirror_mode": {
    "name": "ipython",
    "version": 3
   },
   "file_extension": ".py",
   "mimetype": "text/x-python",
   "name": "python",
   "nbconvert_exporter": "python",
   "pygments_lexer": "ipython3",
   "version": "3.9.13"
  }
 },
 "nbformat": 4,
 "nbformat_minor": 5
}
