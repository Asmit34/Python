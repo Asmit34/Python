{
 "cells": [
  {
   "cell_type": "code",
   "execution_count": 1,
   "id": "695811fb",
   "metadata": {},
   "outputs": [
    {
     "name": "stdout",
     "output_type": "stream",
     "text": [
      "Enter the first number: 3\n",
      "Enter the second number: 3\n",
      "Both are equal\n"
     ]
    }
   ],
   "source": [
    "num1 = int(input(\"Enter the first number: \"))\n",
    "num2 = int(input(\"Enter the second number: \"))\n",
    "if(num1 > num2):\n",
    "    print(num1, \"is greater\")\n",
    "elif(num1 < num2):\n",
    "    print(num2, \"is greater\")\n",
    "else:\n",
    "    print(\"Both are equal\")         "
   ]
  },
  {
   "cell_type": "code",
   "execution_count": 2,
   "id": "54fb5d02",
   "metadata": {},
   "outputs": [
    {
     "data": {
      "text/plain": [
       "3"
      ]
     },
     "execution_count": 2,
     "metadata": {},
     "output_type": "execute_result"
    }
   ],
   "source": [
    "max(num1,num2)"
   ]
  },
  {
   "cell_type": "code",
   "execution_count": 3,
   "id": "89b1222a",
   "metadata": {},
   "outputs": [
    {
     "name": "stdout",
     "output_type": "stream",
     "text": [
      "Enter a number4\n",
      "4 is even\n"
     ]
    }
   ],
   "source": [
    "inp=int(input(\"Enter a number\"))\n",
    "if inp%2==0:\n",
    "    print(f\"{inp} is even\")\n",
    "else:          \n",
    "    print(f\"{inp} is not even\")"
   ]
  },
  {
   "cell_type": "code",
   "execution_count": 7,
   "id": "6ac5997e",
   "metadata": {},
   "outputs": [
    {
     "data": {
      "text/plain": [
       "12"
      ]
     },
     "execution_count": 7,
     "metadata": {},
     "output_type": "execute_result"
    }
   ],
   "source": [
    "class operator:\n",
    "    def __init__(self,num1,num2):\n",
    "        self.num1=num1\n",
    "        self.num2=num2\n",
    "    \n",
    "    def Addition(self):\n",
    "        return self.num1+self.num2        \n",
    "        \n",
    "a=operator(8,4)\n",
    "a.Addition()"
   ]
  },
  {
   "cell_type": "code",
   "execution_count": 8,
   "id": "2224e648",
   "metadata": {},
   "outputs": [
    {
     "name": "stdout",
     "output_type": "stream",
     "text": [
      "Enter a year: 2000\n",
      "2000 is leap year\n"
     ]
    }
   ],
   "source": [
    "year= int(input(\"Enter a year: \"))\n",
    "if (year % 4 == 0) and (year % 100 != 0 or year % 400 == 0):\n",
    "    print(f\"{year} is leap year\")\n",
    "else:   \n",
    "    print((f\"{year} is not leap year\"))"
   ]
  },
  {
   "cell_type": "code",
   "execution_count": 9,
   "id": "9c19259b",
   "metadata": {},
   "outputs": [
    {
     "name": "stdout",
     "output_type": "stream",
     "text": [
      "Enter a number: 3\n",
      "3 is not an Armstrong number\n"
     ]
    }
   ],
   "source": [
    "num = int(input(\"Enter a number: \"))\n",
    "sum = 0\n",
    "temp = num\n",
    "while temp > 0:\n",
    "    digit = temp % 10\n",
    "    sum += digit ** 3\n",
    "    temp //= 10\n",
    "if num == sum:\n",
    "    print(num,\"is an Armstrong number\")\n",
    "else:\n",
    "    print(num,\"is not an Armstrong number\")"
   ]
  },
  {
   "cell_type": "code",
   "execution_count": null,
   "id": "a85044cd",
   "metadata": {},
   "outputs": [],
   "source": [
    "a=int(input(\"Enter a first number\"))\n",
    "b=int(input(\"Enter a second number\"))\n",
    "for num in range(100):\n",
    "    if num>1:\n",
    "        for i in range(2,num):\n",
    "            if (num%i==0):\n",
    "                break\n",
    "else:\n",
    "    print(num)"
   ]
  }
 ],
 "metadata": {
  "kernelspec": {
   "display_name": "Python 3 (ipykernel)",
   "language": "python",
   "name": "python3"
  },
  "language_info": {
   "codemirror_mode": {
    "name": "ipython",
    "version": 3
   },
   "file_extension": ".py",
   "mimetype": "text/x-python",
   "name": "python",
   "nbconvert_exporter": "python",
   "pygments_lexer": "ipython3",
   "version": "3.11.4"
  }
 },
 "nbformat": 4,
 "nbformat_minor": 5
}
