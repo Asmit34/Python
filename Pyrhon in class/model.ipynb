{
 "cells": [
  {
   "cell_type": "code",
   "execution_count": 17,
   "id": "ed43b63f",
   "metadata": {},
   "outputs": [],
   "source": [
    "from tensorflow.keras.models import Sequential\n",
    "from tensorflow.keras.layers import Dense    #Collection of Neurons"
   ]
  },
  {
   "cell_type": "code",
   "execution_count": 18,
   "id": "b124f9ce",
   "metadata": {},
   "outputs": [],
   "source": [
    "import pandas as pd"
   ]
  },
  {
   "cell_type": "code",
   "execution_count": 19,
   "id": "b81e4e59",
   "metadata": {},
   "outputs": [],
   "source": [
    "df=pd.read_csv(\"auto-mpg.csv\",na_values=[\"NA\",\"?\"])"
   ]
  },
  {
   "cell_type": "code",
   "execution_count": 20,
   "id": "8e631569",
   "metadata": {},
   "outputs": [
    {
     "data": {
      "text/plain": [
       "mpg             0\n",
       "cylinders       0\n",
       "displacement    0\n",
       "horsepower      6\n",
       "weight          0\n",
       "acceleration    0\n",
       "year            0\n",
       "origin          0\n",
       "name            0\n",
       "dtype: int64"
      ]
     },
     "execution_count": 20,
     "metadata": {},
     "output_type": "execute_result"
    }
   ],
   "source": [
    "df.isna().sum()"
   ]
  },
  {
   "cell_type": "code",
   "execution_count": 21,
   "id": "eb22c706",
   "metadata": {},
   "outputs": [],
   "source": [
    "median=df[\"horsepower\"].median()\n",
    "df[\"horsepower\"]=df[\"horsepower\"].fillna(median)\n",
    "#  df.fillna(df.median())"
   ]
  },
  {
   "cell_type": "code",
   "execution_count": 22,
   "id": "e35bd2a5",
   "metadata": {},
   "outputs": [
    {
     "data": {
      "text/plain": [
       "mpg             0\n",
       "cylinders       0\n",
       "displacement    0\n",
       "horsepower      0\n",
       "weight          0\n",
       "acceleration    0\n",
       "year            0\n",
       "origin          0\n",
       "name            0\n",
       "dtype: int64"
      ]
     },
     "execution_count": 22,
     "metadata": {},
     "output_type": "execute_result"
    }
   ],
   "source": [
    "df.isna().sum()"
   ]
  },
  {
   "cell_type": "code",
   "execution_count": 23,
   "id": "ded0d8c1",
   "metadata": {},
   "outputs": [],
   "source": [
    "x=df.iloc[:,1:8]   #independent variable\n",
    "y=df.iloc[:,:1]    #dependent variable"
   ]
  },
  {
   "cell_type": "code",
   "execution_count": 24,
   "id": "bfa7b7f2",
   "metadata": {},
   "outputs": [],
   "source": [
    "from sklearn.model_selection import train_test_split\n",
    "x_train,x_test,y_train,y_test=train_test_split(x,y,test_size=0.25,random_state=1234)"
   ]
  },
  {
   "cell_type": "code",
   "execution_count": 25,
   "id": "4084b4ee",
   "metadata": {},
   "outputs": [
    {
     "data": {
      "text/plain": [
       "(298, 7)"
      ]
     },
     "execution_count": 25,
     "metadata": {},
     "output_type": "execute_result"
    }
   ],
   "source": [
    "x_train.shape"
   ]
  },
  {
   "cell_type": "markdown",
   "id": "ead616a6",
   "metadata": {},
   "source": [
    "# Model Creation"
   ]
  },
  {
   "cell_type": "code",
   "execution_count": 26,
   "id": "58424160",
   "metadata": {},
   "outputs": [],
   "source": [
    "#model creation\n",
    "\n",
    "model=Sequential()\n",
    "model.add(Dense(25,input_dim=x.shape[1],activation=\"relu\"))\n",
    "model.add(Dense(10,activation=\"relu\"))     #hidden layer\n",
    "model.add(Dense(1))\n",
    "\n",
    "\n",
    "# relu=max(0,x)"
   ]
  },
  {
   "cell_type": "code",
   "execution_count": 27,
   "id": "5aea604c",
   "metadata": {},
   "outputs": [
    {
     "name": "stdout",
     "output_type": "stream",
     "text": [
      "Model: \"sequential_2\"\n",
      "_________________________________________________________________\n",
      " Layer (type)                Output Shape              Param #   \n",
      "=================================================================\n",
      " dense_6 (Dense)             (None, 25)                200       \n",
      "                                                                 \n",
      " dense_7 (Dense)             (None, 10)                260       \n",
      "                                                                 \n",
      " dense_8 (Dense)             (None, 1)                 11        \n",
      "                                                                 \n",
      "=================================================================\n",
      "Total params: 471\n",
      "Trainable params: 471\n",
      "Non-trainable params: 0\n",
      "_________________________________________________________________\n"
     ]
    }
   ],
   "source": [
    "model.summary()"
   ]
  },
  {
   "cell_type": "code",
   "execution_count": 28,
   "id": "c034091f",
   "metadata": {
    "scrolled": false
   },
   "outputs": [
    {
     "name": "stdout",
     "output_type": "stream",
     "text": [
      "Epoch 1/1000\n",
      "10/10 [==============================] - 1s 28ms/step - loss: 151568.9062 - val_loss: 95174.2969\n",
      "Epoch 2/1000\n",
      "10/10 [==============================] - 0s 7ms/step - loss: 62389.5820 - val_loss: 33429.9297\n",
      "Epoch 3/1000\n",
      "10/10 [==============================] - 0s 8ms/step - loss: 18800.9141 - val_loss: 6849.6768\n",
      "Epoch 4/1000\n",
      "10/10 [==============================] - 0s 6ms/step - loss: 2987.2649 - val_loss: 415.0764\n",
      "Epoch 5/1000\n",
      "10/10 [==============================] - 0s 6ms/step - loss: 261.8338 - val_loss: 422.6158\n",
      "Epoch 6/1000\n",
      "10/10 [==============================] - 0s 7ms/step - loss: 480.8654 - val_loss: 605.0719\n",
      "Epoch 7/1000\n",
      "10/10 [==============================] - 0s 7ms/step - loss: 435.2859 - val_loss: 344.7272\n",
      "Epoch 8/1000\n",
      "10/10 [==============================] - 0s 8ms/step - loss: 223.5605 - val_loss: 192.5405\n",
      "Epoch 9/1000\n",
      "10/10 [==============================] - 0s 6ms/step - loss: 161.7307 - val_loss: 181.9830\n",
      "Epoch 10/1000\n",
      "10/10 [==============================] - 0s 6ms/step - loss: 165.1081 - val_loss: 182.7041\n",
      "Epoch 11/1000\n",
      "10/10 [==============================] - 0s 6ms/step - loss: 162.6396 - val_loss: 179.5713\n",
      "Epoch 12/1000\n",
      "10/10 [==============================] - 0s 6ms/step - loss: 158.1131 - val_loss: 179.9828\n",
      "Epoch 13/1000\n",
      "10/10 [==============================] - 0s 7ms/step - loss: 157.5784 - val_loss: 180.8313\n",
      "Epoch 14/1000\n",
      "10/10 [==============================] - 0s 7ms/step - loss: 158.0794 - val_loss: 181.1758\n",
      "Epoch 15/1000\n",
      "10/10 [==============================] - 0s 6ms/step - loss: 158.0032 - val_loss: 180.4014\n",
      "Epoch 16/1000\n",
      " 1/10 [==>...........................] - ETA: 0s - loss: 165.8181Restoring model weights from the end of the best epoch: 11.\n",
      "10/10 [==============================] - 0s 7ms/step - loss: 158.0556 - val_loss: 180.7492\n",
      "Epoch 16: early stopping\n"
     ]
    },
    {
     "data": {
      "text/plain": [
       "<keras.callbacks.History at 0x264b1cdedf0>"
      ]
     },
     "execution_count": 28,
     "metadata": {},
     "output_type": "execute_result"
    }
   ],
   "source": [
    "model.compile(loss = \"mean_squared_error\", optimizer = \"adam\")\n",
    "\n",
    "from tensorflow.keras.callbacks import EarlyStopping\n",
    "monitor = EarlyStopping(monitor = \"val_loss\", min_delta = 1e-3, patience = 5,\n",
    "                       verbose = 1, mode = \"auto\", restore_best_weights = True )\n",
    "\n",
    "\n",
    "model.fit(x_train, y_train, validation_data = (x_test, y_test), \n",
    "          callbacks = [monitor],\n",
    "          verbose = 1,\n",
    "          epochs = 1000\n",
    "         )"
   ]
  },
  {
   "cell_type": "code",
   "execution_count": 29,
   "id": "93f47ba5",
   "metadata": {},
   "outputs": [
    {
     "name": "stdout",
     "output_type": "stream",
     "text": [
      "4/4 [==============================] - 0s 3ms/step\n"
     ]
    },
    {
     "data": {
      "text/plain": [
       "array([[ 20.019386 ],\n",
       "       [ 37.913864 ],\n",
       "       [ 10.594185 ],\n",
       "       [ 24.368645 ],\n",
       "       [ 22.518665 ],\n",
       "       [ 21.131294 ],\n",
       "       [ 38.04824  ],\n",
       "       [ 19.649433 ],\n",
       "       [  3.0052187],\n",
       "       [ 28.96556  ],\n",
       "       [ 23.985897 ],\n",
       "       [  7.1074066],\n",
       "       [ 27.070019 ],\n",
       "       [ 17.197834 ],\n",
       "       [ 31.26221  ],\n",
       "       [ 15.515846 ],\n",
       "       [ 29.074486 ],\n",
       "       [ 19.016647 ],\n",
       "       [ 34.8301   ],\n",
       "       [ 13.447399 ],\n",
       "       [ 17.658596 ],\n",
       "       [  4.867462 ],\n",
       "       [ 25.97411  ],\n",
       "       [ 26.115574 ],\n",
       "       [ 25.977211 ],\n",
       "       [ 19.703434 ],\n",
       "       [ 11.632509 ],\n",
       "       [ 28.667194 ],\n",
       "       [ 34.147343 ],\n",
       "       [ 17.923717 ],\n",
       "       [ 19.400902 ],\n",
       "       [ 17.060585 ],\n",
       "       [ 23.794846 ],\n",
       "       [ 21.646633 ],\n",
       "       [ 19.437096 ],\n",
       "       [ 32.278194 ],\n",
       "       [  1.8044244],\n",
       "       [ 25.96762  ],\n",
       "       [ 30.67979  ],\n",
       "       [-38.446472 ],\n",
       "       [ 30.389198 ],\n",
       "       [ 21.77449  ],\n",
       "       [ 13.298611 ],\n",
       "       [ 36.789497 ],\n",
       "       [ 21.555176 ],\n",
       "       [ 22.93058  ],\n",
       "       [ 12.499512 ],\n",
       "       [ 33.960846 ],\n",
       "       [ 12.529499 ],\n",
       "       [ 23.50975  ],\n",
       "       [ 23.329914 ],\n",
       "       [ 17.24392  ],\n",
       "       [ 18.738724 ],\n",
       "       [ 16.01408  ],\n",
       "       [ 15.851578 ],\n",
       "       [ 21.105865 ],\n",
       "       [ 26.35225  ],\n",
       "       [ 10.474365 ],\n",
       "       [ 27.40371  ],\n",
       "       [ 31.175243 ],\n",
       "       [ 20.761528 ],\n",
       "       [ 26.52446  ],\n",
       "       [ 24.350632 ],\n",
       "       [ 40.905525 ],\n",
       "       [ 29.199112 ],\n",
       "       [ 22.464561 ],\n",
       "       [ 19.450958 ],\n",
       "       [ 20.791645 ],\n",
       "       [ 28.162285 ],\n",
       "       [ 17.67929  ],\n",
       "       [ 19.206013 ],\n",
       "       [ 24.57663  ],\n",
       "       [ 12.361744 ],\n",
       "       [ 24.521652 ],\n",
       "       [ 15.871361 ],\n",
       "       [ 31.307816 ],\n",
       "       [  3.926926 ],\n",
       "       [ 11.579023 ],\n",
       "       [ 17.208927 ],\n",
       "       [ 25.598396 ],\n",
       "       [ 11.678087 ],\n",
       "       [ 16.531197 ],\n",
       "       [ 17.838478 ],\n",
       "       [ 19.627842 ],\n",
       "       [ 24.782398 ],\n",
       "       [ 21.995071 ],\n",
       "       [ 17.175858 ],\n",
       "       [ 11.996931 ],\n",
       "       [ 28.30178  ],\n",
       "       [ 15.330017 ],\n",
       "       [ 25.587627 ],\n",
       "       [  2.2399294],\n",
       "       [ 27.570484 ],\n",
       "       [ 21.468857 ],\n",
       "       [ 23.463177 ],\n",
       "       [ 14.775696 ],\n",
       "       [ 18.563038 ],\n",
       "       [ 21.700829 ],\n",
       "       [ 33.17087  ],\n",
       "       [ 15.6173935]], dtype=float32)"
      ]
     },
     "execution_count": 29,
     "metadata": {},
     "output_type": "execute_result"
    }
   ],
   "source": [
    "model.predict(x_test)"
   ]
  },
  {
   "cell_type": "code",
   "execution_count": null,
   "id": "b112a3da",
   "metadata": {},
   "outputs": [],
   "source": []
  },
  {
   "cell_type": "code",
   "execution_count": null,
   "id": "98d0a32b",
   "metadata": {},
   "outputs": [],
   "source": []
  },
  {
   "cell_type": "code",
   "execution_count": null,
   "id": "69200b53",
   "metadata": {},
   "outputs": [],
   "source": []
  },
  {
   "cell_type": "code",
   "execution_count": null,
   "id": "473000bc",
   "metadata": {},
   "outputs": [],
   "source": []
  },
  {
   "cell_type": "code",
   "execution_count": null,
   "id": "f15a1e35",
   "metadata": {},
   "outputs": [],
   "source": []
  },
  {
   "cell_type": "code",
   "execution_count": null,
   "id": "2f37feb4",
   "metadata": {},
   "outputs": [],
   "source": []
  },
  {
   "cell_type": "code",
   "execution_count": null,
   "id": "2a93adc7",
   "metadata": {},
   "outputs": [],
   "source": []
  },
  {
   "cell_type": "code",
   "execution_count": null,
   "id": "136c3307",
   "metadata": {},
   "outputs": [],
   "source": []
  },
  {
   "cell_type": "code",
   "execution_count": null,
   "id": "5bdcb1c6",
   "metadata": {},
   "outputs": [],
   "source": []
  },
  {
   "cell_type": "code",
   "execution_count": null,
   "id": "698ddc6a",
   "metadata": {},
   "outputs": [],
   "source": []
  },
  {
   "cell_type": "code",
   "execution_count": null,
   "id": "d9841798",
   "metadata": {},
   "outputs": [],
   "source": []
  }
 ],
 "metadata": {
  "kernelspec": {
   "display_name": "Python 3 (ipykernel)",
   "language": "python",
   "name": "python3"
  },
  "language_info": {
   "codemirror_mode": {
    "name": "ipython",
    "version": 3
   },
   "file_extension": ".py",
   "mimetype": "text/x-python",
   "name": "python",
   "nbconvert_exporter": "python",
   "pygments_lexer": "ipython3",
   "version": "3.11.4"
  }
 },
 "nbformat": 4,
 "nbformat_minor": 5
}
