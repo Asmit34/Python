{
 "cells": [
  {
   "cell_type": "code",
   "execution_count": 1,
   "id": "85de00ff",
   "metadata": {},
   "outputs": [
    {
     "name": "stdout",
     "output_type": "stream",
     "text": [
      "['I']\n",
      "['I', 'Love']\n",
      "['I', 'Love', 'Nepal']\n"
     ]
    }
   ],
   "source": [
    "s = \"I Love Nepal\"\n",
    "\n",
    "result = []\n",
    "for i in s.split():\n",
    "    result.append(i)\n",
    "    print(result)\n",
    "    "
   ]
  },
  {
   "cell_type": "code",
   "execution_count": 2,
   "id": "fe3bf648",
   "metadata": {},
   "outputs": [
    {
     "data": {
      "text/plain": [
       "['i', 'love', 'nepal']"
      ]
     },
     "execution_count": 2,
     "metadata": {},
     "output_type": "execute_result"
    }
   ],
   "source": [
    "inp=\"I love Nepal\"\n",
    "[i.casefold() for i in inp.split()]"
   ]
  },
  {
   "cell_type": "code",
   "execution_count": 3,
   "id": "2b4a5ba0",
   "metadata": {},
   "outputs": [
    {
     "name": "stdout",
     "output_type": "stream",
     "text": [
      "SMS,TU\n",
      "SMS,TU\n",
      "SMS,TU\n",
      "SMS,TU\n",
      "SMS,TU\n",
      "SMS,TU\n",
      "SMS,TU\n",
      "SMS,TU\n",
      "SMS,TU\n",
      "SMS,TU\n"
     ]
    }
   ],
   "source": [
    "inp=(\"SMS,TU\")\n",
    "for i in range(10):\n",
    "    print(inp)"
   ]
  },
  {
   "cell_type": "markdown",
   "id": "83f7d65b",
   "metadata": {},
   "source": [
    "#### result=[]\n",
    "for i in range(10):\n",
    "    ele=int(input(\"Enter a number\"))\n",
    "    result.append(ele)\n",
    "print(\"Sum is:\",sum(result)) \n",
    "print(\"Average is:\",sum(result)/len(result))\n",
    "    "
   ]
  },
  {
   "cell_type": "code",
   "execution_count": 6,
   "id": "d627bd04",
   "metadata": {},
   "outputs": [
    {
     "name": "stdout",
     "output_type": "stream",
     "text": [
      "2 3 5 7 11 13 17 19 23 29 31 37 41 43 47 53 59 61 67 71 73 79 83 89 97 \n",
      "[2, 4, 6, 8, 10, 12, 14, 16, 18, 20, 22, 24, 26, 28, 30, 32, 34, 36, 38, 40, 42, 44, 46, 48, 50, 52, 54, 56, 58, 60, 62, 64, 66, 68, 70, 72, 74, 76, 78, 80, 82, 84, 86, 88, 90, 92, 94, 96, 98, 100]\n"
     ]
    }
   ],
   "source": [
    "for j in range(1,101):              #printing prime number upto 100\n",
    "    if j>1:\n",
    "        for i in range(2,j):\n",
    "            if j%i==0:\n",
    "               break\n",
    "        else:\n",
    "           print(j,end=' ')\n",
    "\n",
    "print(end='\\n')\n",
    "\n",
    "result=[i for i in range(1,101) if i%2==0]     \n",
    "print(result)\n",
    "    "
   ]
  },
  {
   "cell_type": "code",
   "execution_count": 7,
   "id": "af5d3942",
   "metadata": {},
   "outputs": [],
   "source": [
    "def Prime(n):\n",
    "    for i in range(1,n+1):\n",
    "        if(n%i==0):\n",
    "            count=count+1\n",
    "    if(count==2):\n",
    "        return 1\n",
    "    else:\n",
    "        return 0\n"
   ]
  },
  {
   "cell_type": "code",
   "execution_count": null,
   "id": "e256f1e0",
   "metadata": {},
   "outputs": [],
   "source": [
    "n=int(input(\"Enter a number:\"))\n",
    "z=print(n)\n",
    "if(z==1):\n",
    "    print(\"Number is prime\")\n",
    "else:\n",
    "\n",
    "    print(\"Number is not prime\")"
   ]
  },
  {
   "cell_type": "markdown",
   "id": "5334e0db",
   "metadata": {},
   "source": [
    "### count=0\n",
    "#count2=0\n",
    "for i in \"hello\":                      #to count the number of vowels using for loop\n",
    "    if i in \"aeiou\":\n",
    "        count=count+1\n",
    "    #else:\n",
    "        #count2=count2+1\n",
    "print(f\"Number of vowels is {count}\")\n",
    "#print(f\"Number of consonant is {count2}\")        \n"
   ]
  }
 ],
 "metadata": {
  "kernelspec": {
   "display_name": "Python 3 (ipykernel)",
   "language": "python",
   "name": "python3"
  },
  "language_info": {
   "codemirror_mode": {
    "name": "ipython",
    "version": 3
   },
   "file_extension": ".py",
   "mimetype": "text/x-python",
   "name": "python",
   "nbconvert_exporter": "python",
   "pygments_lexer": "ipython3",
   "version": "3.11.4"
  }
 },
 "nbformat": 4,
 "nbformat_minor": 5
}
